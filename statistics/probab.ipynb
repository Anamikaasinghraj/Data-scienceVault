{
 "cells": [
  {
   "cell_type": "markdown",
   "id": "363e4f78-1302-472e-8909-fdc0fc888f9c",
   "metadata": {},
   "source": [
    "### Chapter 6: Probability Basics"
   ]
  },
  {
   "cell_type": "code",
   "execution_count": 3,
   "id": "e9948122-46fc-42ed-b99b-956a6401782a",
   "metadata": {},
   "outputs": [
    {
     "name": "stdout",
     "output_type": "stream",
     "text": [
      "Probability of getting 'H': 0.5\n",
      "P(Red) = 3/6 = 0.5\n",
      "P(Blue) = 2/6 = 0.3333333333333333\n",
      "P(Green) = 1/6 = 0.16666666666666666\n"
     ]
    }
   ],
   "source": [
    "# Sample space and event\n",
    "sample_space = ['H', 'T']  # Coin toss\n",
    "event = 'H'\n",
    "\n",
    "# Probability of getting heads\n",
    "probability = sample_space.count(event) / len(sample_space)\n",
    "print(f\"Probability of getting '{event}':\", probability)\n",
    "\n",
    "# Example: Probability from data\n",
    "from collections import Counter\n",
    "\n",
    "data = ['Red', 'Blue', 'Red', 'Green', 'Red', 'Blue']\n",
    "counts = Counter(data)\n",
    "total = len(data)\n",
    "\n",
    "for color in counts:\n",
    "    print(f\"P({color}) = {counts[color]}/{total} = {counts[color]/total}\")\n"
   ]
  }
 ],
 "metadata": {
  "kernelspec": {
   "display_name": "Python [conda env:base] *",
   "language": "python",
   "name": "conda-base-py"
  },
  "language_info": {
   "codemirror_mode": {
    "name": "ipython",
    "version": 3
   },
   "file_extension": ".py",
   "mimetype": "text/x-python",
   "name": "python",
   "nbconvert_exporter": "python",
   "pygments_lexer": "ipython3",
   "version": "3.13.5"
  }
 },
 "nbformat": 4,
 "nbformat_minor": 5
}
