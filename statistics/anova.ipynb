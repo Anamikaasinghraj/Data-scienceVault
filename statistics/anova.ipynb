{
 "cells": [
  {
   "cell_type": "code",
   "execution_count": 1,
   "id": "001004b5-631d-4729-b094-68ac84ef1437",
   "metadata": {},
   "outputs": [],
   "source": [
    "import numpy as np\n",
    "import scipy.stats as stats"
   ]
  },
  {
   "cell_type": "markdown",
   "id": "e480052b-806c-4afc-b7b2-0085f002a7d1",
   "metadata": {},
   "source": [
    "### Chapter 13: ANOVA"
   ]
  },
  {
   "cell_type": "markdown",
   "id": "49ef46d6-61ba-4508-8b89-b26c5d9365e0",
   "metadata": {},
   "source": [
    "#### ANOVA (Analysis of Variance) is a statistical method used to determine whether there are significant differences between the means of three or more independent groups. Instead of comparing groups two at a time (like with t-tests), ANOVA evaluates all groups simultaneously to see if at least one differs meaningfully from the others."
   ]
  },
  {
   "cell_type": "code",
   "execution_count": 2,
   "id": "afd9d480-fc8c-4bdf-b080-9fbe8aae7d33",
   "metadata": {},
   "outputs": [
    {
     "name": "stdout",
     "output_type": "stream",
     "text": [
      "F-statistic: 38.0\n",
      "p-value: 6.429710859518804e-06\n",
      "Reject the null hypothesis: At least one group mean is significantly different.\n"
     ]
    }
   ],
   "source": [
    "group1 = [23, 20, 22, 21, 24]\n",
    "group2 = [30, 28, 27, 29, 31]\n",
    "group3 = [22, 23, 21, 20, 19]\n",
    "\n",
    "f_stat, p_value = stats.f_oneway(group1, group2, group3)\n",
    "\n",
    "print(\"F-statistic:\", f_stat)\n",
    "print(\"p-value:\", p_value)\n",
    "\n",
    "if p_value < 0.05:\n",
    "    print(\"Reject the null hypothesis: At least one group mean is significantly different.\")\n",
    "else:\n",
    "    print(\"Fail to reject the null hypothesis: No significant difference between group means.\")\n"
   ]
  }
 ],
 "metadata": {
  "kernelspec": {
   "display_name": "Python [conda env:base] *",
   "language": "python",
   "name": "conda-base-py"
  },
  "language_info": {
   "codemirror_mode": {
    "name": "ipython",
    "version": 3
   },
   "file_extension": ".py",
   "mimetype": "text/x-python",
   "name": "python",
   "nbconvert_exporter": "python",
   "pygments_lexer": "ipython3",
   "version": "3.13.5"
  }
 },
 "nbformat": 4,
 "nbformat_minor": 5
}
