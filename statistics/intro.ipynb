{
 "cells": [
  {
   "cell_type": "markdown",
   "id": "f9afa5cb-7759-414c-a4a3-b81af112556e",
   "metadata": {},
   "source": [
    "## chapter-1\n",
    "#### Intro and types"
   ]
  },
  {
   "cell_type": "code",
   "execution_count": 1,
   "id": "3c764b53-884a-4b2a-a0c0-b8653a667c74",
   "metadata": {},
   "outputs": [
    {
     "name": "stdout",
     "output_type": "stream",
     "text": [
      "Statistics is the study of data collection, analysis, interpretation, and presentation.\n",
      "\n",
      "Types of Statistics:\n",
      "1. Descriptive Statistics - Summarizes and describes features of a dataset.\n",
      "2. Inferential Statistics - Makes predictions or inferences about a population from a sample.\n"
     ]
    }
   ],
   "source": [
    "# What is statistics?\n",
    "print(\"Statistics is the study of data collection, analysis, interpretation, and presentation.\")\n",
    "\n",
    "# Types of Statistics\n",
    "print(\"\\nTypes of Statistics:\")\n",
    "print(\"1. Descriptive Statistics - Summarizes and describes features of a dataset.\")\n",
    "print(\"2. Inferential Statistics - Makes predictions or inferences about a population from a sample.\")\n"
   ]
  },
  {
   "cell_type": "markdown",
   "id": "3d84a31c-a305-4037-bba6-480f1fc80378",
   "metadata": {},
   "source": [
    "## chapter-2\n",
    "#### Types of Data"
   ]
  },
  {
   "cell_type": "code",
   "execution_count": 2,
   "id": "ba8959ac-f4c5-4406-add7-78c6e056ed20",
   "metadata": {},
   "outputs": [
    {
     "name": "stdout",
     "output_type": "stream",
     "text": [
      "\n",
      "Qualitative (Categorical):\n",
      " - Nominal (e.g., eye color, gender)\n",
      " - Ordinal (e.g., grade level, satisfaction)\n",
      "\n",
      "Quantitative (Numerical):\n",
      " - Discrete (e.g., number of children)\n",
      " - Continuous (e.g., height, weight)\n"
     ]
    }
   ],
   "source": [
    "data_types = {\n",
    "    \"Qualitative (Categorical)\": [\"Nominal (e.g., eye color, gender)\", \"Ordinal (e.g., grade level, satisfaction)\"],\n",
    "    \"Quantitative (Numerical)\": [\"Discrete (e.g., number of children)\", \"Continuous (e.g., height, weight)\"]\n",
    "}\n",
    "\n",
    "for category, types in data_types.items():\n",
    "    print(f\"\\n{category}:\")\n",
    "    for item in types:\n",
    "        print(f\" - {item}\")\n"
   ]
  }
 ],
 "metadata": {
  "kernelspec": {
   "display_name": "Python [conda env:base] *",
   "language": "python",
   "name": "conda-base-py"
  },
  "language_info": {
   "codemirror_mode": {
    "name": "ipython",
    "version": 3
   },
   "file_extension": ".py",
   "mimetype": "text/x-python",
   "name": "python",
   "nbconvert_exporter": "python",
   "pygments_lexer": "ipython3",
   "version": "3.13.5"
  }
 },
 "nbformat": 4,
 "nbformat_minor": 5
}
