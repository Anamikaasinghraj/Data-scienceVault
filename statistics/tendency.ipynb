{
 "cells": [
  {
   "cell_type": "code",
   "execution_count": 3,
   "id": "b3f46443-2f6b-4f67-b9e4-b571e5072f34",
   "metadata": {},
   "outputs": [],
   "source": [
    "import numpy as np\n",
    "from statistics import mode"
   ]
  },
  {
   "cell_type": "markdown",
   "id": "3caaafee-d908-4dbd-98cb-a55faec866ca",
   "metadata": {},
   "source": [
    "### Chapter 3: Measures of Central Tendency"
   ]
  },
  {
   "cell_type": "markdown",
   "id": "d58e11f3-f5ca-4377-9692-595ed5cbe416",
   "metadata": {},
   "source": [
    "#### mean :- The sum of all values divided by the number of values (it is just that find average of array or given data)\n",
    "#### mode:- The value that appears most frequently. \n",
    "#### median:- the middle value when data is arranged in order."
   ]
  },
  {
   "cell_type": "code",
   "execution_count": 4,
   "id": "6f4f665c-5674-41dc-a54f-306d1dd5df5a",
   "metadata": {},
   "outputs": [
    {
     "name": "stdout",
     "output_type": "stream",
     "text": [
      "Data: [5, 7, 8, 5, 6, 9, 7, 5]\n",
      "Mean: 6.5\n",
      "Median: 6.5\n",
      "Mode: 5\n"
     ]
    }
   ],
   "source": [
    "data = [5, 7, 8, 5, 6, 9, 7, 5]\n",
    "\n",
    "mean_val = np.mean(data)\n",
    "median_val = np.median(data)\n",
    "mode_val = mode(data)\n",
    "\n",
    "print(\"Data:\", data)\n",
    "print(\"Mean:\", mean_val)\n",
    "print(\"Median:\", median_val)\n",
    "print(\"Mode:\", mode_val)\n"
   ]
  }
 ],
 "metadata": {
  "kernelspec": {
   "display_name": "Python [conda env:base] *",
   "language": "python",
   "name": "conda-base-py"
  },
  "language_info": {
   "codemirror_mode": {
    "name": "ipython",
    "version": 3
   },
   "file_extension": ".py",
   "mimetype": "text/x-python",
   "name": "python",
   "nbconvert_exporter": "python",
   "pygments_lexer": "ipython3",
   "version": "3.13.5"
  }
 },
 "nbformat": 4,
 "nbformat_minor": 5
}
