{
 "cells": [
  {
   "cell_type": "code",
   "execution_count": 1,
   "id": "443a31d2-fd7a-465b-9dd1-a5dc31479548",
   "metadata": {},
   "outputs": [],
   "source": [
    "import numpy as np"
   ]
  },
  {
   "cell_type": "markdown",
   "id": "5d00a437-04aa-4f08-9d86-d974b0c584c2",
   "metadata": {},
   "source": [
    "### Chapter 11: Correlation & Covariance"
   ]
  },
  {
   "cell_type": "markdown",
   "id": "07be7fcb-cf11-47c6-95bc-66998422fa17",
   "metadata": {},
   "source": [
    "#### correlation standardized measure of the strength and direction of the linear relationship between two variables."
   ]
  },
  {
   "cell_type": "markdown",
   "id": "600340bc-b7d6-4753-8179-f514aa394a95",
   "metadata": {},
   "source": [
    "#### covariance measures how two variables change together."
   ]
  },
  {
   "cell_type": "code",
   "execution_count": 3,
   "id": "f7f20bd5-fc12-462e-bcd1-e195ad053184",
   "metadata": {},
   "outputs": [
    {
     "name": "stdout",
     "output_type": "stream",
     "text": [
      "Covariance: 95.60\n",
      "Correlation: 0.53\n"
     ]
    }
   ],
   "source": [
    "x = [43, 21, 25, 42, 57, 59]\n",
    "y = [99, 65, 79, 75, 87, 81]\n",
    "\n",
    "cov_matrix = np.cov(x, y)\n",
    "cov_xy = cov_matrix[0, 1]\n",
    "print(f\"Covariance: {cov_xy:.2f}\")\n",
    "\n",
    "correlation = np.corrcoef(x, y)[0, 1]\n",
    "print(f\"Correlation: {correlation:.2f}\")\n"
   ]
  }
 ],
 "metadata": {
  "kernelspec": {
   "display_name": "Python [conda env:base] *",
   "language": "python",
   "name": "conda-base-py"
  },
  "language_info": {
   "codemirror_mode": {
    "name": "ipython",
    "version": 3
   },
   "file_extension": ".py",
   "mimetype": "text/x-python",
   "name": "python",
   "nbconvert_exporter": "python",
   "pygments_lexer": "ipython3",
   "version": "3.13.5"
  }
 },
 "nbformat": 4,
 "nbformat_minor": 5
}
