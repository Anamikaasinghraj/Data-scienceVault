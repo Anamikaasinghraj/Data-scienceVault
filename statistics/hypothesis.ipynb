{
 "cells": [
  {
   "cell_type": "code",
   "execution_count": 1,
   "id": "866d68c6-d701-47fb-bd5f-220c18d3f9b2",
   "metadata": {},
   "outputs": [],
   "source": [
    "import numpy as np\n",
    "from scipy import stats"
   ]
  },
  {
   "cell_type": "markdown",
   "id": "1312f77d-1fad-4d91-a088-af2f92b84d31",
   "metadata": {},
   "source": [
    "### Chapter 9: Hypothesis Testing - One Sample t-test"
   ]
  },
  {
   "cell_type": "markdown",
   "id": "721ae332-63f9-49a5-81de-a53adb64b21e",
   "metadata": {},
   "source": [
    "#### Hypothesis testing is a statistical method used to make decisions or inferences about a population based on sample data. It helps determine whether a claim or assumption (called a hypothesis) about a population parameter is likely to be true.\n"
   ]
  },
  {
   "cell_type": "markdown",
   "id": "e9b91fa1-870a-4099-97a9-e257d8ccaea7",
   "metadata": {},
   "source": [
    "#### one sample t-test"
   ]
  },
  {
   "cell_type": "markdown",
   "id": "53119e0b-8bdc-4d1d-8bdc-30bb68b91e5c",
   "metadata": {},
   "source": [
    "#####  Compares the mean of a single group to a known value or population mean."
   ]
  },
  {
   "cell_type": "code",
   "execution_count": 2,
   "id": "2f5b7ee1-7fed-4318-91d6-4ecf83e7ce72",
   "metadata": {},
   "outputs": [
    {
     "name": "stdout",
     "output_type": "stream",
     "text": [
      "t-statistic: 3.2071349029490954\n",
      "p-value: 0.010708019955674747\n",
      "Reject the null hypothesis: Sample mean is significantly different from 2.5\n"
     ]
    }
   ],
   "source": [
    "# Sample data\n",
    "data = [2.4, 2.6, 2.5, 2.8, 2.9, 3.0, 2.7, 2.5, 2.9, 3.1]\n",
    "mu = 2.5  # Hypothesized population mean\n",
    "\n",
    "t_stat, p_value = stats.ttest_1samp(data, mu)\n",
    "\n",
    "print(\"t-statistic:\", t_stat)\n",
    "print(\"p-value:\", p_value)\n",
    "\n",
    "if p_value < 0.05:\n",
    "    print(\"Reject the null hypothesis: Sample mean is significantly different from 2.5\")\n",
    "else:\n",
    "    print(\"Fail to reject the null hypothesis: No significant difference\")\n"
   ]
  }
 ],
 "metadata": {
  "kernelspec": {
   "display_name": "Python [conda env:base] *",
   "language": "python",
   "name": "conda-base-py"
  },
  "language_info": {
   "codemirror_mode": {
    "name": "ipython",
    "version": 3
   },
   "file_extension": ".py",
   "mimetype": "text/x-python",
   "name": "python",
   "nbconvert_exporter": "python",
   "pygments_lexer": "ipython3",
   "version": "3.13.5"
  }
 },
 "nbformat": 4,
 "nbformat_minor": 5
}
