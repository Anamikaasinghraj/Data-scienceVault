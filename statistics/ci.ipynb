{
 "cells": [
  {
   "cell_type": "code",
   "execution_count": 1,
   "id": "2fbdbf40-d896-4cc0-b723-e3351cf582b1",
   "metadata": {},
   "outputs": [],
   "source": [
    "import numpy as np\n",
    "import scipy.stats as stats"
   ]
  },
  {
   "cell_type": "markdown",
   "id": "d2d0272c-167a-4e0d-b485-94b61f09101f",
   "metadata": {},
   "source": [
    "### Chapter 10: Confidence Intervals"
   ]
  },
  {
   "cell_type": "markdown",
   "id": "58763319-dda1-48a6-8971-436685eb6e5a",
   "metadata": {},
   "source": [
    "#### A confidence interval (CI) is a range of values used to estimate an unknown population parameter—like a mean or proportion—with a certain level of confidence. Instead of giving a single number, it gives a range that’s likely to contain the true value."
   ]
  },
  {
   "cell_type": "code",
   "execution_count": 2,
   "id": "a3f56cf5-513b-4bb6-b659-1d909df9975e",
   "metadata": {},
   "outputs": [
    {
     "name": "stdout",
     "output_type": "stream",
     "text": [
      "Sample Mean: 70.3\n",
      "95% Confidence Interval: (67.91, 72.69)\n"
     ]
    }
   ],
   "source": [
    "data = [65, 70, 72, 68, 74, 69, 71, 73, 75, 66]\n",
    "sample_mean = np.mean(data)\n",
    "sample_std = np.std(data, ddof=1)\n",
    "n = len(data)\n",
    "\n",
    "confidence = 0.95\n",
    "alpha = 1 - confidence\n",
    "t_critical = stats.t.ppf(1 - alpha/2, df=n-1)\n",
    "\n",
    "margin_of_error = t_critical * (sample_std / np.sqrt(n))\n",
    "lower_bound = sample_mean - margin_of_error\n",
    "upper_bound = sample_mean + margin_of_error\n",
    "\n",
    "print(f\"Sample Mean: {sample_mean}\")\n",
    "print(f\"95% Confidence Interval: ({lower_bound:.2f}, {upper_bound:.2f})\")\n"
   ]
  }
 ],
 "metadata": {
  "kernelspec": {
   "display_name": "Python [conda env:base] *",
   "language": "python",
   "name": "conda-base-py"
  },
  "language_info": {
   "codemirror_mode": {
    "name": "ipython",
    "version": 3
   },
   "file_extension": ".py",
   "mimetype": "text/x-python",
   "name": "python",
   "nbconvert_exporter": "python",
   "pygments_lexer": "ipython3",
   "version": "3.13.5"
  }
 },
 "nbformat": 4,
 "nbformat_minor": 5
}
