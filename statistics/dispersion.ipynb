{
 "cells": [
  {
   "cell_type": "code",
   "execution_count": 1,
   "id": "dea9495d-3ce3-4716-9c8a-100938d6f392",
   "metadata": {},
   "outputs": [],
   "source": [
    "import numpy as np"
   ]
  },
  {
   "cell_type": "markdown",
   "id": "784363fb-85b7-4e10-a8ee-28d10c0159a0",
   "metadata": {},
   "source": [
    "### Chapter 4: Measures of Dispersion"
   ]
  },
  {
   "cell_type": "markdown",
   "id": "21d81663-e988-4db5-8cd6-a5d8f5008dab",
   "metadata": {},
   "source": [
    "#### Range:  Difference between the highest and lowest values. \n",
    "#### Variance: Average of the squared differences from the mean. \n",
    "#### Standard deviation: Square root of the variance. It’s in the same units as the data. \n",
    "#### Interquartile Range (IQR): Spread of the middle 50% of data. "
   ]
  },
  {
   "cell_type": "code",
   "execution_count": 3,
   "id": "8d7f3d9a-f8b6-45fc-99a9-2cca9d631a65",
   "metadata": {},
   "outputs": [
    {
     "name": "stdout",
     "output_type": "stream",
     "text": [
      "Data: [5, 7, 8, 5, 6, 9, 7, 5]\n",
      "Range: 4\n",
      "Variance: 2.0\n",
      "Standard Deviation: 1.4142135623730951\n",
      "Interquartile Range (IQR): 2.25\n"
     ]
    }
   ],
   "source": [
    "data = [5, 7, 8, 5, 6, 9, 7, 5]\n",
    "\n",
    "range_val = max(data) - min(data)\n",
    "variance = np.var(data)\n",
    "std_dev = np.std(data)\n",
    "iqr = np.percentile(data, 75) - np.percentile(data, 25)\n",
    "\n",
    "print(\"Data:\", data)\n",
    "print(\"Range:\", range_val)\n",
    "print(\"Variance:\", variance)\n",
    "print(\"Standard Deviation:\", std_dev)\n",
    "print(\"Interquartile Range (IQR):\", iqr)\n"
   ]
  }
 ],
 "metadata": {
  "kernelspec": {
   "display_name": "Python [conda env:base] *",
   "language": "python",
   "name": "conda-base-py"
  },
  "language_info": {
   "codemirror_mode": {
    "name": "ipython",
    "version": 3
   },
   "file_extension": ".py",
   "mimetype": "text/x-python",
   "name": "python",
   "nbconvert_exporter": "python",
   "pygments_lexer": "ipython3",
   "version": "3.13.5"
  }
 },
 "nbformat": 4,
 "nbformat_minor": 5
}
