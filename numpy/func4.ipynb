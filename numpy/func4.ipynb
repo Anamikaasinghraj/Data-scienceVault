{
 "cells": [
  {
   "cell_type": "code",
   "execution_count": 3,
   "id": "8cefa8f6-23ac-4e4b-bcf5-a2e92d569a70",
   "metadata": {},
   "outputs": [],
   "source": [
    "import numpy as np"
   ]
  },
  {
   "cell_type": "markdown",
   "id": "ae5d46be-6577-46ef-a50f-cb2651fd7743",
   "metadata": {},
   "source": [
    "## shuffle"
   ]
  },
  {
   "cell_type": "code",
   "execution_count": 4,
   "id": "29d97cb6-7f9f-4da6-8ac7-930c34ad7bfa",
   "metadata": {},
   "outputs": [
    {
     "name": "stdout",
     "output_type": "stream",
     "text": [
      "[3 1 2 5 4]\n"
     ]
    }
   ],
   "source": [
    "var = np.array([1,2,3,4,5])\n",
    "np.random.shuffle(var)\n",
    "print(var)"
   ]
  },
  {
   "cell_type": "markdown",
   "id": "7bdb1e50-d2d1-4304-a109-89c5d899d803",
   "metadata": {},
   "source": [
    "## unique"
   ]
  },
  {
   "cell_type": "code",
   "execution_count": 5,
   "id": "e6557613-8ee5-4840-8f91-2bee4385578f",
   "metadata": {},
   "outputs": [
    {
     "name": "stdout",
     "output_type": "stream",
     "text": [
      "[2 4 5 8 9]\n"
     ]
    }
   ],
   "source": [
    "var1 = np.array([2,5,8,4,2,2,4,9,8])\n",
    "x = np.unique(var1)\n",
    "print(x)\n"
   ]
  },
  {
   "cell_type": "markdown",
   "id": "93b0cb59-081d-4921-8a84-b8e02cdfd141",
   "metadata": {},
   "source": [
    "## resize"
   ]
  },
  {
   "cell_type": "code",
   "execution_count": 9,
   "id": "25e57703-2242-4c2d-a640-11fc4e94f8f3",
   "metadata": {},
   "outputs": [
    {
     "name": "stdout",
     "output_type": "stream",
     "text": [
      "[[2 5]\n",
      " [8 4]\n",
      " [2 2]]\n"
     ]
    }
   ],
   "source": [
    "var2 = np.array([2,5,8,4,2,2,4,9,8])\n",
    "y = np.resize(var2,(3,2))\n",
    "print(y)"
   ]
  },
  {
   "cell_type": "code",
   "execution_count": null,
   "id": "da29adb3-c948-46ff-8c09-0f40829b6a76",
   "metadata": {},
   "outputs": [],
   "source": []
  }
 ],
 "metadata": {
  "kernelspec": {
   "display_name": "Python [conda env:base] *",
   "language": "python",
   "name": "conda-base-py"
  },
  "language_info": {
   "codemirror_mode": {
    "name": "ipython",
    "version": 3
   },
   "file_extension": ".py",
   "mimetype": "text/x-python",
   "name": "python",
   "nbconvert_exporter": "python",
   "pygments_lexer": "ipython3",
   "version": "3.13.5"
  }
 },
 "nbformat": 4,
 "nbformat_minor": 5
}
