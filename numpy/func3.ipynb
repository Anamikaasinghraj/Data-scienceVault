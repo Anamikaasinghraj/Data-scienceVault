{
 "cells": [
  {
   "cell_type": "markdown",
   "id": "0fd5b33f-1e6b-41d7-b81c-85f15d068c0c",
   "metadata": {},
   "source": [
    "## search "
   ]
  },
  {
   "cell_type": "code",
   "execution_count": 4,
   "id": "b5157287-8dc3-4f8f-823b-cf17cba797c5",
   "metadata": {},
   "outputs": [],
   "source": [
    "import numpy as np"
   ]
  },
  {
   "cell_type": "code",
   "execution_count": 7,
   "id": "4c9fd693-43b3-4e45-99ce-231c6d3b19e1",
   "metadata": {},
   "outputs": [
    {
     "name": "stdout",
     "output_type": "stream",
     "text": [
      "[ 3  5  7  8 12  2  4  3  6]\n",
      "(array([5]),)\n",
      "(array([3, 4, 5, 6, 8]),)\n"
     ]
    }
   ],
   "source": [
    "a = np.array([3, 5, 7, 8, 12, 2, 4, 3,6]) \n",
    "print(a)\n",
    "x = np.where(a == 2)\n",
    "print(x)\n",
    "y = np.where((a %  2 ) == 0)\n",
    "print(y)"
   ]
  },
  {
   "cell_type": "markdown",
   "id": "ac39b66b-654b-4edc-85eb-f3ea99fa0db2",
   "metadata": {},
   "source": [
    "## sort"
   ]
  },
  {
   "cell_type": "code",
   "execution_count": 8,
   "id": "296b0415-17de-46fe-ba53-69f62537b860",
   "metadata": {},
   "outputs": [
    {
     "name": "stdout",
     "output_type": "stream",
     "text": [
      "[ 1  2  3  5  6  8  9 10 66]\n"
     ]
    }
   ],
   "source": [
    "b = np.array([2, 1,5,66,8,3,9,6,10])\n",
    "\n",
    "print(np.sort(b))"
   ]
  },
  {
   "cell_type": "code",
   "execution_count": 16,
   "id": "d93ccf80-3a7d-4685-b55f-5e67f0a87148",
   "metadata": {},
   "outputs": [
    {
     "name": "stdout",
     "output_type": "stream",
     "text": [
      "['a' 'b' 'j' 'q' 'w']\n"
     ]
    }
   ],
   "source": [
    "string = np.array([\"a\", \"j\", \"w\",\"q\",\"b\"])\n",
    "print(np.sort(string))"
   ]
  },
  {
   "cell_type": "code",
   "execution_count": 18,
   "id": "2722687a-7ff0-4da9-be48-53c8a0ba7a8f",
   "metadata": {},
   "outputs": [
    {
     "name": "stdout",
     "output_type": "stream",
     "text": [
      "[[ 2 11]\n",
      " [ 8 51]\n",
      " [ 1 21]]\n"
     ]
    }
   ],
   "source": [
    "array2 = np.array([[11,2],[51,8],[21,1]])\n",
    "print(np.sort(array2))"
   ]
  },
  {
   "cell_type": "markdown",
   "id": "8129b2b1-c184-44d6-8d0e-903d47cacd1d",
   "metadata": {},
   "source": [
    "## filter "
   ]
  },
  {
   "cell_type": "code",
   "execution_count": 20,
   "id": "95947c85-3ca9-4a0a-b2bf-85154b95729c",
   "metadata": {},
   "outputs": [
    {
     "name": "stdout",
     "output_type": "stream",
     "text": [
      "[2 8 9]\n",
      "<class 'numpy.ndarray'>\n"
     ]
    }
   ],
   "source": [
    "var = np.array([2,5,8,9])\n",
    "f = [True, False, True,True]\n",
    "new_a = var[f]\n",
    "print(new_a)\n",
    "print(type(new_a))"
   ]
  }
 ],
 "metadata": {
  "kernelspec": {
   "display_name": "Python [conda env:base] *",
   "language": "python",
   "name": "conda-base-py"
  },
  "language_info": {
   "codemirror_mode": {
    "name": "ipython",
    "version": 3
   },
   "file_extension": ".py",
   "mimetype": "text/x-python",
   "name": "python",
   "nbconvert_exporter": "python",
   "pygments_lexer": "ipython3",
   "version": "3.13.5"
  }
 },
 "nbformat": 4,
 "nbformat_minor": 5
}
