{
 "cells": [
  {
   "cell_type": "code",
   "execution_count": 3,
   "id": "a4adf5a8-1268-4bd2-b77c-3e54cb52c81c",
   "metadata": {},
   "outputs": [
    {
     "name": "stdout",
     "output_type": "stream",
     "text": [
      "[0. 0. 0. 0.]\n",
      "\n",
      "[[0. 0. 0. 0.]\n",
      " [0. 0. 0. 0.]\n",
      " [0. 0. 0. 0.]]\n"
     ]
    }
   ],
   "source": [
    "import numpy as np\n",
    "ar_zero = np.zeros(4)\n",
    "ar_zero1 = np.zeros((3,4))\n",
    "print(ar_zero)\n",
    "print()\n",
    "print(ar_zero1)\n",
    "\n",
    "\n"
   ]
  },
  {
   "cell_type": "markdown",
   "id": "49cfe3ea-aaad-41b4-878e-b3f50e4c447f",
   "metadata": {},
   "source": [
    "# ones\n"
   ]
  },
  {
   "cell_type": "code",
   "execution_count": 6,
   "id": "4199783e-09a2-4d03-a5e5-718d029b3be7",
   "metadata": {},
   "outputs": [
    {
     "name": "stdout",
     "output_type": "stream",
     "text": [
      "[1. 1. 1. 1. 1.]\n",
      "\n",
      "[[1. 1. 1. 1. 1.]\n",
      " [1. 1. 1. 1. 1.]\n",
      " [1. 1. 1. 1. 1.]]\n"
     ]
    }
   ],
   "source": [
    "ar_one = np.ones(5)\n",
    "ar_one1 = np.ones((3,5))\n",
    "print(ar_one)\n",
    "print()\n",
    "print(ar_one1)"
   ]
  },
  {
   "cell_type": "markdown",
   "id": "01b7d176-e390-43d2-adbc-6b1768b16378",
   "metadata": {},
   "source": [
    "# empty"
   ]
  },
  {
   "cell_type": "code",
   "execution_count": 7,
   "id": "c61baf87-e675-4126-a96d-24a2de92acec",
   "metadata": {},
   "outputs": [
    {
     "name": "stdout",
     "output_type": "stream",
     "text": [
      "[[6.23042070e-307 4.67296746e-307 1.69121096e-306 1.33511290e-306\n",
      "  6.23058368e-307 8.45593934e-307 7.56593017e-307]\n",
      " [1.11258854e-306 1.11261502e-306 1.42410839e-306 7.56597770e-307\n",
      "  6.23059726e-307 1.05700345e-307 2.22523140e-306]\n",
      " [1.02360867e-306 1.86921958e-306 6.89804133e-307 1.11261162e-306\n",
      "  8.34443015e-308 2.22813476e-312 0.00000000e+000]]\n"
     ]
    }
   ],
   "source": [
    "arr_empty = np.empty((3,7))\n",
    "print(arr_empty)"
   ]
  },
  {
   "cell_type": "markdown",
   "id": "5bb1d15c-de81-4fe5-b113-ee358498892f",
   "metadata": {},
   "source": [
    "# range element"
   ]
  },
  {
   "cell_type": "code",
   "execution_count": 12,
   "id": "1e00b0c5-a329-4238-991c-2f8d55eae1d0",
   "metadata": {},
   "outputs": [
    {
     "name": "stdout",
     "output_type": "stream",
     "text": [
      "[0 1 2 3]\n",
      "\n",
      "[4]\n"
     ]
    }
   ],
   "source": [
    "arr_rn = np.arange(4)\n",
    "arr_rn1 = np.arange(4,5)\n",
    "\n",
    "print(arr_rn)\n",
    "print()\n",
    "print(arr_rn1)"
   ]
  },
  {
   "cell_type": "markdown",
   "id": "875c5c30-b01d-4155-9939-bea0c264469c",
   "metadata": {},
   "source": [
    "# diagonal"
   ]
  },
  {
   "cell_type": "code",
   "execution_count": 14,
   "id": "3549f733-1626-4c9d-97b1-4ccd827bff5b",
   "metadata": {},
   "outputs": [
    {
     "name": "stdout",
     "output_type": "stream",
     "text": [
      "[[1. 0. 0. 0.]\n",
      " [0. 1. 0. 0.]\n",
      " [0. 0. 1. 0.]\n",
      " [0. 0. 0. 1.]]\n",
      "\n",
      "[[1. 0. 0. 0. 0.]\n",
      " [0. 1. 0. 0. 0.]\n",
      " [0. 0. 1. 0. 0.]]\n"
     ]
    }
   ],
   "source": [
    "ar_dia = np.eye(4)\n",
    "ar_dia1 = np.eye(3,5)\n",
    "print(ar_dia)\n",
    "print()\n",
    "print(ar_dia1)"
   ]
  },
  {
   "cell_type": "markdown",
   "id": "89df7fba-3b42-4688-a42a-906cd6a96c55",
   "metadata": {},
   "source": [
    "# special"
   ]
  },
  {
   "cell_type": "code",
   "execution_count": 16,
   "id": "95879185-85c7-4163-a50b-a84c914dfe8a",
   "metadata": {},
   "outputs": [
    {
     "name": "stdout",
     "output_type": "stream",
     "text": [
      "[ 0.   2.5  5.   7.5 10. ]\n"
     ]
    }
   ],
   "source": [
    "ar_lin = np.linspace(0,10,num=5)\n",
    "print(ar_lin)\n"
   ]
  },
  {
   "cell_type": "code",
   "execution_count": null,
   "id": "7d545ece-f372-4c02-a62d-3eb9b25378f9",
   "metadata": {},
   "outputs": [],
   "source": []
  },
  {
   "cell_type": "code",
   "execution_count": null,
   "id": "7274352e-9180-4093-be91-f0d9a1ea6201",
   "metadata": {},
   "outputs": [],
   "source": []
  },
  {
   "cell_type": "code",
   "execution_count": null,
   "id": "53582746-a3b1-4323-8225-b22895a32fc5",
   "metadata": {},
   "outputs": [],
   "source": []
  },
  {
   "cell_type": "code",
   "execution_count": null,
   "id": "db37c644-b69f-482c-82b3-656709c0f310",
   "metadata": {},
   "outputs": [],
   "source": []
  },
  {
   "cell_type": "code",
   "execution_count": null,
   "id": "a1cc95c6-7c1e-4bf1-b1c6-78b04ea4ea85",
   "metadata": {},
   "outputs": [],
   "source": []
  },
  {
   "cell_type": "code",
   "execution_count": null,
   "id": "19d0218b-b1a3-4173-b75e-a0229d1cf73e",
   "metadata": {},
   "outputs": [],
   "source": []
  },
  {
   "cell_type": "code",
   "execution_count": null,
   "id": "5bc8bfa0-0aa0-4cd8-8ea6-608fe679c50e",
   "metadata": {},
   "outputs": [],
   "source": []
  },
  {
   "cell_type": "code",
   "execution_count": null,
   "id": "10ec3f04-636f-4a56-8eef-c240d7f045ef",
   "metadata": {},
   "outputs": [],
   "source": []
  },
  {
   "cell_type": "code",
   "execution_count": null,
   "id": "287debc8-b790-4fb1-8045-fb71132cc4c6",
   "metadata": {},
   "outputs": [],
   "source": []
  },
  {
   "cell_type": "code",
   "execution_count": null,
   "id": "7885f9c9-16cf-4e7b-b902-ae337283bce2",
   "metadata": {},
   "outputs": [],
   "source": []
  },
  {
   "cell_type": "code",
   "execution_count": null,
   "id": "0ae744e8-3302-41ae-9adc-8be19559e5d4",
   "metadata": {},
   "outputs": [],
   "source": []
  },
  {
   "cell_type": "code",
   "execution_count": null,
   "id": "9141bf77-2f4b-463a-96c7-3edd49a1c097",
   "metadata": {},
   "outputs": [],
   "source": []
  },
  {
   "cell_type": "code",
   "execution_count": null,
   "id": "0df1ed90-03ca-4cb4-bc7a-8d31e50cc896",
   "metadata": {},
   "outputs": [],
   "source": []
  }
 ],
 "metadata": {
  "kernelspec": {
   "display_name": "Python [conda env:base] *",
   "language": "python",
   "name": "conda-base-py"
  },
  "language_info": {
   "codemirror_mode": {
    "name": "ipython",
    "version": 3
   },
   "file_extension": ".py",
   "mimetype": "text/x-python",
   "name": "python",
   "nbconvert_exporter": "python",
   "pygments_lexer": "ipython3",
   "version": "3.13.5"
  }
 },
 "nbformat": 4,
 "nbformat_minor": 5
}
