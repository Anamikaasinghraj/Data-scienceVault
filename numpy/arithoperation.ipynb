{
 "cells": [
  {
   "cell_type": "code",
   "execution_count": 1,
   "id": "fdd55a2a-5e55-4039-bd44-bf3114ba0a5e",
   "metadata": {},
   "outputs": [],
   "source": [
    "import numpy as np "
   ]
  },
  {
   "cell_type": "code",
   "execution_count": 4,
   "id": "3712baeb-0029-4ed2-872a-ce6f788cf4bc",
   "metadata": {},
   "outputs": [
    {
     "data": {
      "text/plain": [
       "array([ 3,  6, 11, 14,  8, 15])"
      ]
     },
     "execution_count": 4,
     "metadata": {},
     "output_type": "execute_result"
    }
   ],
   "source": [
    "a = ([1, 2, 4, 5, 6, 7])\n",
    "b = ([2, 4, 7, 9, 2, 8])\n",
    "arr = np.add(a,b)\n",
    "arr"
   ]
  },
  {
   "cell_type": "code",
   "execution_count": 5,
   "id": "742bb674-583a-4786-8c5c-9e04263617e4",
   "metadata": {},
   "outputs": [
    {
     "name": "stdout",
     "output_type": "stream",
     "text": [
      "[ 5  6  8  9 11]\n"
     ]
    }
   ],
   "source": [
    "var = np.array([2, 3, 5, 6, 8])\n",
    "varadd = var + 3\n",
    "print(varadd)"
   ]
  },
  {
   "cell_type": "code",
   "execution_count": 6,
   "id": "503a67f2-cf84-44b0-be19-4176c255ec87",
   "metadata": {},
   "outputs": [
    {
     "data": {
      "text/plain": [
       "array([[ 3,  5,  9, 11],\n",
       "       [ 4,  9, 12, 14]])"
      ]
     },
     "execution_count": 6,
     "metadata": {},
     "output_type": "execute_result"
    }
   ],
   "source": [
    "var1 = np.array([[1, 2, 4, 5], [2, 4, 5, 6]])\n",
    "var2 = np.array([[2, 3, 5, 6], [2, 5, 7, 8]])\n",
    "arr1 = np.add(var1, var2)\n",
    "arr1"
   ]
  },
  {
   "cell_type": "code",
   "execution_count": 7,
   "id": "863e0ea9-fcb0-49d8-9803-86ed8eb4b790",
   "metadata": {},
   "outputs": [
    {
     "data": {
      "text/plain": [
       "array([[[ 3,  5,  7, 11],\n",
       "        [ 4,  8,  7, 15],\n",
       "        [ 6,  8, 10, 13]]])"
      ]
     },
     "execution_count": 7,
     "metadata": {},
     "output_type": "execute_result"
    }
   ],
   "source": [
    "var3 = np.array([[[1, 2, 3, 4], [2, 4, 6, 7], [2, 3, 4, 6]]])\n",
    "var4 = np.array([[[2, 3, 4, 7], [2, 4, 1, 8], [4, 5, 6, 7]]])\n",
    "arr2 = np.add(var3, var4)\n",
    "arr2"
   ]
  },
  {
   "cell_type": "code",
   "execution_count": 9,
   "id": "55de1704-5bad-4bc3-b361-d32594f8d81a",
   "metadata": {},
   "outputs": [
    {
     "data": {
      "text/plain": [
       "array([[ 4,  7, 10],\n",
       "       [ 4,  8, 13]])"
      ]
     },
     "execution_count": 9,
     "metadata": {},
     "output_type": "execute_result"
    }
   ],
   "source": [
    "var5 = np.array([[2, 3, 4],[2, 5, 6]])\n",
    "var6 = np.array([[2, 4, 6],[2, 3, 7]])\n",
    "arr3 = np.add(var5, var6)\n",
    "arr3"
   ]
  },
  {
   "cell_type": "code",
   "execution_count": 11,
   "id": "80a27a8e-79c0-4429-a9c9-2dbb4e841e32",
   "metadata": {},
   "outputs": [
    {
     "data": {
      "text/plain": [
       "array([[ 0, -1, -2],\n",
       "       [ 0,  2, -1]])"
      ]
     },
     "execution_count": 11,
     "metadata": {},
     "output_type": "execute_result"
    }
   ],
   "source": [
    "arr4 = np.subtract(var5, var6)\n",
    "arr4"
   ]
  },
  {
   "cell_type": "code",
   "execution_count": 12,
   "id": "bc1dfc1d-253a-4427-87b3-1c7093b758f5",
   "metadata": {},
   "outputs": [
    {
     "data": {
      "text/plain": [
       "array([[ 4, 12, 24],\n",
       "       [ 4, 15, 42]])"
      ]
     },
     "execution_count": 12,
     "metadata": {},
     "output_type": "execute_result"
    }
   ],
   "source": [
    "arr5 = np.multiply(var5, var6)\n",
    "arr5"
   ]
  },
  {
   "cell_type": "code",
   "execution_count": 13,
   "id": "1fceca2c-79c4-41b5-86db-b6a3ea369791",
   "metadata": {},
   "outputs": [
    {
     "data": {
      "text/plain": [
       "array([[1.        , 0.75      , 0.66666667],\n",
       "       [1.        , 1.66666667, 0.85714286]])"
      ]
     },
     "execution_count": 13,
     "metadata": {},
     "output_type": "execute_result"
    }
   ],
   "source": [
    "arr6 = np.divide(var5, var6)\n",
    "arr6"
   ]
  },
  {
   "cell_type": "code",
   "execution_count": 14,
   "id": "7a4c7fdb-8266-4b8d-8299-8dff1da8e5f4",
   "metadata": {},
   "outputs": [
    {
     "data": {
      "text/plain": [
       "array([[0, 3, 4],\n",
       "       [0, 2, 6]])"
      ]
     },
     "execution_count": 14,
     "metadata": {},
     "output_type": "execute_result"
    }
   ],
   "source": [
    "arr7 = np.mod(var5, var6)\n",
    "arr7"
   ]
  }
 ],
 "metadata": {
  "kernelspec": {
   "display_name": "Python [conda env:base] *",
   "language": "python",
   "name": "conda-base-py"
  },
  "language_info": {
   "codemirror_mode": {
    "name": "ipython",
    "version": 3
   },
   "file_extension": ".py",
   "mimetype": "text/x-python",
   "name": "python",
   "nbconvert_exporter": "python",
   "pygments_lexer": "ipython3",
   "version": "3.13.5"
  }
 },
 "nbformat": 4,
 "nbformat_minor": 5
}
