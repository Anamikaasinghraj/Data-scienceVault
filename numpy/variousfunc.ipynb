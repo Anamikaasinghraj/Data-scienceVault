{
 "cells": [
  {
   "cell_type": "markdown",
   "id": "7f7fa98e-1176-4a8a-bd2e-661e90c5b99c",
   "metadata": {},
   "source": [
    "## join array"
   ]
  },
  {
   "cell_type": "code",
   "execution_count": 1,
   "id": "a944c242-76eb-4e0e-8ed2-bd832a5d78ef",
   "metadata": {},
   "outputs": [],
   "source": [
    "import numpy as np "
   ]
  },
  {
   "cell_type": "code",
   "execution_count": 7,
   "id": "95385ca4-1e13-4cd0-9d4d-9e2d9ef5a514",
   "metadata": {},
   "outputs": [
    {
     "name": "stdout",
     "output_type": "stream",
     "text": [
      "[2 4 5 6 3 5 6]\n"
     ]
    }
   ],
   "source": [
    "a = np.array([2, 4, 5, 6])\n",
    "b = np.array([3, 5, 6])\n",
    "\n",
    "ar = np.concatenate((a, b))\n",
    "print(ar)"
   ]
  },
  {
   "cell_type": "code",
   "execution_count": 11,
   "id": "cd65c32d-4d02-46ab-8997-977e679c1300",
   "metadata": {},
   "outputs": [
    {
     "name": "stdout",
     "output_type": "stream",
     "text": [
      "[[2 3]\n",
      " [4 5]\n",
      " [1 2]\n",
      " [4 5]]\n",
      "\n",
      "[[2 3 1 2]\n",
      " [4 5 4 5]]\n"
     ]
    }
   ],
   "source": [
    "c = np.array([[2,3],[4,5]])\n",
    "d = np.array([[1,2],[4,5]])\n",
    "\n",
    "r = np.concatenate((c, d), axis=0)\n",
    "print(r)\n",
    "print()\n",
    "w = np.concatenate((c, d), axis = 1)\n",
    "print(w)"
   ]
  },
  {
   "cell_type": "code",
   "execution_count": 16,
   "id": "1a3c8bc5-bb9d-429c-ac07-8da172ca9706",
   "metadata": {},
   "outputs": [
    {
     "name": "stdout",
     "output_type": "stream",
     "text": [
      "[[1 6]\n",
      " [2 7]\n",
      " [3 8]\n",
      " [4 9]]\n",
      "[1 2 3 4 6 7 8 9]\n",
      "[[1 2 3 4]\n",
      " [6 7 8 9]]\n",
      "[[[1 6]\n",
      "  [2 7]\n",
      "  [3 8]\n",
      "  [4 9]]]\n"
     ]
    }
   ],
   "source": [
    "arr1 = np.array([1,2,3,4])\n",
    "arr2 = np.array([6,7,8,9])\n",
    "a_new = np.stack((arr1, arr2), axis=1)\n",
    "print(a_new)\n",
    "a_new1 =np.hstack((arr1, arr2)) # row\n",
    "print(a_new1)\n",
    "a_new2 = np.vstack((arr1, arr2)) # column\n",
    "print(a_new2)\n",
    "a_new3 = np.dstack((arr1, arr2)) # height\n",
    "print(a_new3)"
   ]
  },
  {
   "cell_type": "markdown",
   "id": "85cee7aa-db5a-4d9a-82b0-aa2f42a2ac5b",
   "metadata": {},
   "source": [
    "## split array"
   ]
  },
  {
   "cell_type": "code",
   "execution_count": 24,
   "id": "14b72c8b-1c7c-4044-a720-ea48db7e1c76",
   "metadata": {},
   "outputs": [
    {
     "name": "stdout",
     "output_type": "stream",
     "text": [
      "[ 2 13  5  4  7  8  6]\n",
      "[array([ 2, 13,  5,  4]), array([7, 8, 6])]\n",
      "\n",
      "[ 2 13  5  4]\n"
     ]
    }
   ],
   "source": [
    "arr5 = np.array([2,13,5,4,7,8,6])\n",
    "print(arr5)\n",
    "y = np.array_split(arr5, 2)\n",
    "print(y)\n",
    "print()\n",
    "print(y[0]) #indexing"
   ]
  }
 ],
 "metadata": {
  "kernelspec": {
   "display_name": "Python [conda env:base] *",
   "language": "python",
   "name": "conda-base-py"
  },
  "language_info": {
   "codemirror_mode": {
    "name": "ipython",
    "version": 3
   },
   "file_extension": ".py",
   "mimetype": "text/x-python",
   "name": "python",
   "nbconvert_exporter": "python",
   "pygments_lexer": "ipython3",
   "version": "3.13.5"
  }
 },
 "nbformat": 4,
 "nbformat_minor": 5
}
