{
 "cells": [
  {
   "cell_type": "code",
   "execution_count": 1,
   "id": "df3c9dde-6ef9-4079-a94e-487b4249280d",
   "metadata": {},
   "outputs": [],
   "source": [
    "import numpy as np"
   ]
  },
  {
   "cell_type": "code",
   "execution_count": 4,
   "id": "315268bc-0f78-4ccc-abeb-88c547250417",
   "metadata": {},
   "outputs": [
    {
     "name": "stdout",
     "output_type": "stream",
     "text": [
      "[23  4  9 10 11]\n"
     ]
    }
   ],
   "source": [
    "a = np.array([12, 3, 2, 5, 7])\n",
    "b = np.array([11, 1, 7, 5, 4])\n",
    "print(a + b)\n"
   ]
  },
  {
   "cell_type": "markdown",
   "id": "925ae344-aa35-484d-aa6d-451801b97f9a",
   "metadata": {},
   "source": [
    "# indexing"
   ]
  },
  {
   "cell_type": "code",
   "execution_count": 5,
   "id": "730e745c-f456-4d0d-a6b1-49f84315f700",
   "metadata": {},
   "outputs": [
    {
     "name": "stdout",
     "output_type": "stream",
     "text": [
      "5\n"
     ]
    }
   ],
   "source": [
    "print(a[3])"
   ]
  },
  {
   "cell_type": "code",
   "execution_count": 7,
   "id": "2d8f611a-a5ad-421a-a7ea-84fae8bfdf88",
   "metadata": {},
   "outputs": [
    {
     "name": "stdout",
     "output_type": "stream",
     "text": [
      "7\n"
     ]
    }
   ],
   "source": [
    "print(b[-3])"
   ]
  },
  {
   "cell_type": "markdown",
   "id": "7e98e0bd-659d-4420-9b5a-5a8a4476eb30",
   "metadata": {},
   "source": [
    "## slicing"
   ]
  },
  {
   "cell_type": "code",
   "execution_count": 9,
   "id": "af16a00a-08eb-4800-9ed3-661be62b26ad",
   "metadata": {},
   "outputs": [
    {
     "name": "stdout",
     "output_type": "stream",
     "text": [
      "[3 2 5 7]\n"
     ]
    }
   ],
   "source": [
    "print(a[1:5:1])"
   ]
  },
  {
   "cell_type": "code",
   "execution_count": 10,
   "id": "42028e24-606b-4be4-ba63-b1280a34d621",
   "metadata": {},
   "outputs": [
    {
     "name": "stdout",
     "output_type": "stream",
     "text": [
      "[ 7  5  2  3 12]\n"
     ]
    }
   ],
   "source": [
    "print(a[::-1])"
   ]
  },
  {
   "cell_type": "markdown",
   "id": "a4377ca0-90d9-42dd-8798-923b998cbd64",
   "metadata": {},
   "source": [
    "## iteration"
   ]
  },
  {
   "cell_type": "code",
   "execution_count": 11,
   "id": "d3327f9e-be34-43de-a8b0-27b69b469d64",
   "metadata": {},
   "outputs": [
    {
     "name": "stdout",
     "output_type": "stream",
     "text": [
      "11\n",
      "1\n",
      "7\n",
      "5\n",
      "4\n"
     ]
    }
   ],
   "source": [
    "for i in b:\n",
    "    print(i)"
   ]
  },
  {
   "cell_type": "code",
   "execution_count": 12,
   "id": "0605aece-a373-498b-ad99-65bbc887a094",
   "metadata": {},
   "outputs": [
    {
     "name": "stdout",
     "output_type": "stream",
     "text": [
      "[[1 3 4]\n",
      " [3 5 7]]\n"
     ]
    }
   ],
   "source": [
    "x = np.array([[1,3,4],\n",
    "             [3,5,7]])\n",
    "print(x)"
   ]
  },
  {
   "cell_type": "code",
   "execution_count": 13,
   "id": "16bfb6d3-c4e7-403c-82e8-59c75c6b2e60",
   "metadata": {},
   "outputs": [
    {
     "name": "stdout",
     "output_type": "stream",
     "text": [
      "[1 3 4]\n",
      "[3 5 7]\n"
     ]
    }
   ],
   "source": [
    "for i in x:\n",
    "    print(i)"
   ]
  },
  {
   "cell_type": "code",
   "execution_count": 14,
   "id": "f265d3b3-3c6e-4fee-872a-1888d00baa78",
   "metadata": {},
   "outputs": [
    {
     "name": "stdout",
     "output_type": "stream",
     "text": [
      "1\n",
      "3\n",
      "4\n",
      "3\n",
      "5\n",
      "7\n"
     ]
    }
   ],
   "source": [
    "for i in x:\n",
    "    for k in i:\n",
    "        print(k)"
   ]
  },
  {
   "cell_type": "code",
   "execution_count": null,
   "id": "82cb783e-ebee-41f9-ac49-7e71c396d186",
   "metadata": {},
   "outputs": [],
   "source": []
  },
  {
   "cell_type": "code",
   "execution_count": null,
   "id": "ed1067a7-72a6-4ecd-8a8d-03cf4851ac41",
   "metadata": {},
   "outputs": [],
   "source": []
  },
  {
   "cell_type": "code",
   "execution_count": null,
   "id": "865134d5-0f65-4565-aa51-7922b054f43f",
   "metadata": {},
   "outputs": [],
   "source": []
  },
  {
   "cell_type": "code",
   "execution_count": null,
   "id": "dcf6cf27-5c1c-4cd0-bd00-2c63f6a958c2",
   "metadata": {},
   "outputs": [],
   "source": []
  }
 ],
 "metadata": {
  "kernelspec": {
   "display_name": "Python [conda env:base] *",
   "language": "python",
   "name": "conda-base-py"
  },
  "language_info": {
   "codemirror_mode": {
    "name": "ipython",
    "version": 3
   },
   "file_extension": ".py",
   "mimetype": "text/x-python",
   "name": "python",
   "nbconvert_exporter": "python",
   "pygments_lexer": "ipython3",
   "version": "3.13.5"
  }
 },
 "nbformat": 4,
 "nbformat_minor": 5
}
