{
 "cells": [
  {
   "cell_type": "markdown",
   "id": "c3843612-3948-4455-ba88-6fb192873510",
   "metadata": {},
   "source": [
    "## copy and view"
   ]
  },
  {
   "cell_type": "code",
   "execution_count": 1,
   "id": "b4fb78cb-dbac-40a8-9ff0-5b94e78d497f",
   "metadata": {},
   "outputs": [],
   "source": [
    "import numpy as n"
   ]
  },
  {
   "cell_type": "code",
   "execution_count": 2,
   "id": "c5868eff-0eeb-41b4-939f-38021a926ef2",
   "metadata": {},
   "outputs": [
    {
     "name": "stdout",
     "output_type": "stream",
     "text": [
      "a :  [2 4 6 7]\n",
      "co :  [2 4 6 7]\n"
     ]
    }
   ],
   "source": [
    "a = n.array([2, 4, 6,7])\n",
    "co = a.copy()\n",
    "print(\"a : \", a)\n",
    "print(\"co : \", co)"
   ]
  },
  {
   "cell_type": "code",
   "execution_count": 3,
   "id": "67e9eb0f-bf0d-462d-b978-cb7d3b6d6988",
   "metadata": {},
   "outputs": [
    {
     "name": "stdout",
     "output_type": "stream",
     "text": [
      "[2 4 6 7]\n"
     ]
    }
   ],
   "source": [
    "vi = a.view()\n",
    "print(vi)"
   ]
  }
 ],
 "metadata": {
  "kernelspec": {
   "display_name": "Python [conda env:base] *",
   "language": "python",
   "name": "conda-base-py"
  },
  "language_info": {
   "codemirror_mode": {
    "name": "ipython",
    "version": 3
   },
   "file_extension": ".py",
   "mimetype": "text/x-python",
   "name": "python",
   "nbconvert_exporter": "python",
   "pygments_lexer": "ipython3",
   "version": "3.13.5"
  }
 },
 "nbformat": 4,
 "nbformat_minor": 5
}
