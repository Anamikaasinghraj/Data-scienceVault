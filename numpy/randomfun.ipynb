{
 "cells": [
  {
   "cell_type": "markdown",
   "id": "23c3f4a3-0aa0-46f6-9fcd-e209320f490a",
   "metadata": {},
   "source": [
    "# random"
   ]
  },
  {
   "cell_type": "markdown",
   "id": "42f8a041-9419-4874-a6df-dd817cf93bf8",
   "metadata": {},
   "source": [
    "## rand()"
   ]
  },
  {
   "cell_type": "code",
   "execution_count": 1,
   "id": "0d21d6c1-1199-4082-bf75-c97c613545dc",
   "metadata": {},
   "outputs": [],
   "source": [
    "import numpy as np"
   ]
  },
  {
   "cell_type": "code",
   "execution_count": 3,
   "id": "bd6877ad-e34b-402d-a9f3-79f30aed90f6",
   "metadata": {},
   "outputs": [
    {
     "name": "stdout",
     "output_type": "stream",
     "text": [
      "[0.86167491 0.45593596 0.12141518 0.31797003]\n"
     ]
    }
   ],
   "source": [
    "var = np.random.rand(4)\n",
    "print(var)"
   ]
  },
  {
   "cell_type": "code",
   "execution_count": 4,
   "id": "b7c82a62-0955-4daa-80ef-b59616602096",
   "metadata": {},
   "outputs": [
    {
     "name": "stdout",
     "output_type": "stream",
     "text": [
      "[[0.08098585 0.47215104 0.83250255 0.74192336 0.30341705 0.09572926]\n",
      " [0.54527948 0.33535543 0.44958175 0.2598259  0.94619155 0.89062515]]\n"
     ]
    }
   ],
   "source": [
    "var1 = np.random.rand(2,6)\n",
    "print(var1)"
   ]
  },
  {
   "cell_type": "markdown",
   "id": "fa6ebd60-53d4-47a6-8d9c-adb1ebeaebdd",
   "metadata": {},
   "source": [
    "# randn()"
   ]
  },
  {
   "cell_type": "code",
   "execution_count": 7,
   "id": "4acf8e4f-be48-4682-9a71-c1420d196d2b",
   "metadata": {},
   "outputs": [
    {
     "name": "stdout",
     "output_type": "stream",
     "text": [
      "[-2.03420691  1.16712677  0.49175734 -1.25564984 -0.65011239]\n",
      "\n",
      "[[ 3.50095601e-01  2.74444290e-01 -1.08963880e-01  3.92798235e-01\n",
      "  -4.73671069e-01]\n",
      " [ 6.36545048e-05 -1.65385514e+00  1.16023260e+00 -8.98622265e-01\n",
      "   8.59244130e-01]]\n"
     ]
    }
   ],
   "source": [
    "var2 = np.random.randn(5)\n",
    "var3 = np.random.randn(2,5)\n",
    "print(var2)\n",
    "print()\n",
    "print(var3)"
   ]
  },
  {
   "cell_type": "markdown",
   "id": "f27354d9-87c5-460f-868d-bf5acdfdba07",
   "metadata": {},
   "source": [
    "## ranf()"
   ]
  },
  {
   "cell_type": "code",
   "execution_count": 10,
   "id": "54532b61-2f50-46c2-8bc1-2e441f41532d",
   "metadata": {},
   "outputs": [
    {
     "name": "stdout",
     "output_type": "stream",
     "text": [
      "[0.75430319 0.079028   0.20461814 0.67087631 0.24182448]\n",
      "\n",
      "[[0.66973619 0.16016853 0.90275231 0.96695799]\n",
      " [0.14897811 0.31599215 0.62999986 0.21266624]]\n"
     ]
    }
   ],
   "source": [
    "var4 = np.random.ranf(5)\n",
    "var5 = np.random.ranf((2,4))\n",
    "print(var4)\n",
    "print()\n",
    "print(var5)"
   ]
  },
  {
   "cell_type": "markdown",
   "id": "1eeefce1-9815-4c80-8f4b-a1c1de22ba30",
   "metadata": {},
   "source": [
    "## randint()"
   ]
  },
  {
   "cell_type": "code",
   "execution_count": 13,
   "id": "21b44138-5b8a-485b-b239-6a0bd3a48ba0",
   "metadata": {},
   "outputs": [
    {
     "name": "stdout",
     "output_type": "stream",
     "text": [
      "2\n",
      "\n",
      "[2 3 3 5 3 6 4 3 4 2]\n"
     ]
    }
   ],
   "source": [
    "var6 = np.random.randint(4)\n",
    "var7 = np.random.randint(2,7,10)\n",
    "print(var6)\n",
    "print()\n",
    "print(var7)"
   ]
  },
  {
   "cell_type": "code",
   "execution_count": null,
   "id": "7f5154e5-350e-460f-b4da-d30d7b8cf5da",
   "metadata": {},
   "outputs": [],
   "source": []
  },
  {
   "cell_type": "code",
   "execution_count": null,
   "id": "422ae83e-54d9-41b1-a0ff-859a38c49005",
   "metadata": {},
   "outputs": [],
   "source": []
  }
 ],
 "metadata": {
  "kernelspec": {
   "display_name": "Python [conda env:base] *",
   "language": "python",
   "name": "conda-base-py"
  },
  "language_info": {
   "codemirror_mode": {
    "name": "ipython",
    "version": 3
   },
   "file_extension": ".py",
   "mimetype": "text/x-python",
   "name": "python",
   "nbconvert_exporter": "python",
   "pygments_lexer": "ipython3",
   "version": "3.13.5"
  }
 },
 "nbformat": 4,
 "nbformat_minor": 5
}
