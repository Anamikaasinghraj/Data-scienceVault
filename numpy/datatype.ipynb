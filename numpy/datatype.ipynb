{
 "cells": [
  {
   "cell_type": "markdown",
   "id": "95678e41-0b88-49ca-aec2-fff5c805cdd0",
   "metadata": {},
   "source": [
    "# data types"
   ]
  },
  {
   "cell_type": "code",
   "execution_count": 1,
   "id": "590ae9a6-3d10-4bde-9bbf-884cfe439256",
   "metadata": {},
   "outputs": [
    {
     "name": "stdout",
     "output_type": "stream",
     "text": [
      "data type :  int64\n"
     ]
    }
   ],
   "source": [
    "import numpy as np\n",
    "var = np.array([1, 2, 3, 4])\n",
    "print(\"data type : \", var.dtype)\n"
   ]
  },
  {
   "cell_type": "code",
   "execution_count": null,
   "id": "9ee761ef-9596-4a0a-8325-dd8c402927a6",
   "metadata": {},
   "outputs": [],
   "source": []
  }
 ],
 "metadata": {
  "kernelspec": {
   "display_name": "Python [conda env:base] *",
   "language": "python",
   "name": "conda-base-py"
  },
  "language_info": {
   "codemirror_mode": {
    "name": "ipython",
    "version": 3
   },
   "file_extension": ".py",
   "mimetype": "text/x-python",
   "name": "python",
   "nbconvert_exporter": "python",
   "pygments_lexer": "ipython3",
   "version": "3.13.5"
  }
 },
 "nbformat": 4,
 "nbformat_minor": 5
}
