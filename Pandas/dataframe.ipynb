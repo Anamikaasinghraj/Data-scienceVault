{
 "cells": [
  {
   "cell_type": "markdown",
   "id": "54368ada-f584-4a78-a22a-192c9064aa7f",
   "metadata": {},
   "source": [
    "# data frames"
   ]
  },
  {
   "cell_type": "code",
   "execution_count": 1,
   "id": "64a9eb43-e112-4abd-819a-994a1853e386",
   "metadata": {},
   "outputs": [],
   "source": [
    "import numpy as np\n",
    "import pandas as pd"
   ]
  },
  {
   "cell_type": "markdown",
   "id": "43f0038c-00de-4989-9e9e-3b56d30731b4",
   "metadata": {},
   "source": [
    "### creating data frames"
   ]
  },
  {
   "cell_type": "code",
   "execution_count": 5,
   "id": "43500256-6a9a-4e50-af63-798670a52442",
   "metadata": {
    "scrolled": true
   },
   "outputs": [
    {
     "data": {
      "text/html": [
       "<div>\n",
       "<style scoped>\n",
       "    .dataframe tbody tr th:only-of-type {\n",
       "        vertical-align: middle;\n",
       "    }\n",
       "\n",
       "    .dataframe tbody tr th {\n",
       "        vertical-align: top;\n",
       "    }\n",
       "\n",
       "    .dataframe thead th {\n",
       "        text-align: right;\n",
       "    }\n",
       "</style>\n",
       "<table border=\"1\" class=\"dataframe\">\n",
       "  <thead>\n",
       "    <tr style=\"text-align: right;\">\n",
       "      <th></th>\n",
       "      <th>Name</th>\n",
       "      <th>Age</th>\n",
       "      <th>city</th>\n",
       "      <th>salary</th>\n",
       "    </tr>\n",
       "  </thead>\n",
       "  <tbody>\n",
       "    <tr>\n",
       "      <th>0</th>\n",
       "      <td>anu</td>\n",
       "      <td>21</td>\n",
       "      <td>dehri</td>\n",
       "      <td>476452</td>\n",
       "    </tr>\n",
       "    <tr>\n",
       "      <th>1</th>\n",
       "      <td>tashu</td>\n",
       "      <td>20</td>\n",
       "      <td>bhopal</td>\n",
       "      <td>21454</td>\n",
       "    </tr>\n",
       "    <tr>\n",
       "      <th>2</th>\n",
       "      <td>mona</td>\n",
       "      <td>22</td>\n",
       "      <td>london</td>\n",
       "      <td>68738665</td>\n",
       "    </tr>\n",
       "    <tr>\n",
       "      <th>3</th>\n",
       "      <td>anshu</td>\n",
       "      <td>15</td>\n",
       "      <td>mumbai</td>\n",
       "      <td>8976700</td>\n",
       "    </tr>\n",
       "    <tr>\n",
       "      <th>4</th>\n",
       "      <td>aayu</td>\n",
       "      <td>23</td>\n",
       "      <td>delhi</td>\n",
       "      <td>556688</td>\n",
       "    </tr>\n",
       "  </tbody>\n",
       "</table>\n",
       "</div>"
      ],
      "text/plain": [
       "    Name  Age    city    salary\n",
       "0    anu   21   dehri    476452\n",
       "1  tashu   20  bhopal     21454\n",
       "2   mona   22  london  68738665\n",
       "3  anshu   15  mumbai   8976700\n",
       "4   aayu   23   delhi    556688"
      ]
     },
     "execution_count": 5,
     "metadata": {},
     "output_type": "execute_result"
    }
   ],
   "source": [
    "data = {\n",
    "    'Name' : ['anu', 'tashu', 'mona', 'anshu', 'aayu'],\n",
    "    'Age' : [21, 20, 22, 15, 23],\n",
    "     'city' : ['dehri', 'bhopal', 'london', 'mumbai', 'delhi'],\n",
    "      'salary' : [476452, 21454, 68738665, 8976700,556688]\n",
    "\n",
    "    \n",
    "}\n",
    "pd.DataFrame(data)"
   ]
  },
  {
   "cell_type": "code",
   "execution_count": 14,
   "id": "0a395c66-2b53-41e7-b923-87aacea88916",
   "metadata": {},
   "outputs": [
    {
     "data": {
      "text/html": [
       "<div>\n",
       "<style scoped>\n",
       "    .dataframe tbody tr th:only-of-type {\n",
       "        vertical-align: middle;\n",
       "    }\n",
       "\n",
       "    .dataframe tbody tr th {\n",
       "        vertical-align: top;\n",
       "    }\n",
       "\n",
       "    .dataframe thead th {\n",
       "        text-align: right;\n",
       "    }\n",
       "</style>\n",
       "<table border=\"1\" class=\"dataframe\">\n",
       "  <thead>\n",
       "    <tr style=\"text-align: right;\">\n",
       "      <th></th>\n",
       "      <th>name</th>\n",
       "      <th>age</th>\n",
       "      <th>city</th>\n",
       "      <th>salary</th>\n",
       "    </tr>\n",
       "  </thead>\n",
       "  <tbody>\n",
       "    <tr>\n",
       "      <th>0</th>\n",
       "      <td>anu</td>\n",
       "      <td>21</td>\n",
       "      <td>dehri</td>\n",
       "      <td>476452</td>\n",
       "    </tr>\n",
       "    <tr>\n",
       "      <th>1</th>\n",
       "      <td>tashu</td>\n",
       "      <td>20</td>\n",
       "      <td>bhopal</td>\n",
       "      <td>21454</td>\n",
       "    </tr>\n",
       "    <tr>\n",
       "      <th>2</th>\n",
       "      <td>mona</td>\n",
       "      <td>22</td>\n",
       "      <td>london</td>\n",
       "      <td>68738665</td>\n",
       "    </tr>\n",
       "    <tr>\n",
       "      <th>3</th>\n",
       "      <td>anshu</td>\n",
       "      <td>15</td>\n",
       "      <td>mumbai</td>\n",
       "      <td>8976700</td>\n",
       "    </tr>\n",
       "    <tr>\n",
       "      <th>4</th>\n",
       "      <td>aayu</td>\n",
       "      <td>23</td>\n",
       "      <td>delhi</td>\n",
       "      <td>556688</td>\n",
       "    </tr>\n",
       "  </tbody>\n",
       "</table>\n",
       "</div>"
      ],
      "text/plain": [
       "    name  age    city    salary\n",
       "0    anu   21   dehri    476452\n",
       "1  tashu   20  bhopal     21454\n",
       "2   mona   22  london  68738665\n",
       "3  anshu   15  mumbai   8976700\n",
       "4   aayu   23   delhi    556688"
      ]
     },
     "execution_count": 14,
     "metadata": {},
     "output_type": "execute_result"
    }
   ],
   "source": [
    "data_list = [\n",
    "    ['anu', 21,\t'dehri',476452],\n",
    "    ['tashu', 20, 'bhopal',\t21454],\n",
    "\t['mona', 22,\t'london',\t68738665],\n",
    "\t['anshu', 15, 'mumbai',\t8976700],\n",
    "\t['aayu', 23, 'delhi', 556688 ]\n",
    "]\n",
    "df2 = pd.DataFrame(data_list)\n",
    "columns = [\"name\", \"age\", \"city\", \"salary\"]\n",
    "df2 = pd.DataFrame(data_list, columns =columns)\n",
    "df2"
   ]
  },
  {
   "cell_type": "code",
   "execution_count": 13,
   "id": "779dc2e4-b257-4f48-8111-ad961f89294a",
   "metadata": {},
   "outputs": [
    {
     "data": {
      "text/html": [
       "<div>\n",
       "<style scoped>\n",
       "    .dataframe tbody tr th:only-of-type {\n",
       "        vertical-align: middle;\n",
       "    }\n",
       "\n",
       "    .dataframe tbody tr th {\n",
       "        vertical-align: top;\n",
       "    }\n",
       "\n",
       "    .dataframe thead th {\n",
       "        text-align: right;\n",
       "    }\n",
       "</style>\n",
       "<table border=\"1\" class=\"dataframe\">\n",
       "  <thead>\n",
       "    <tr style=\"text-align: right;\">\n",
       "      <th></th>\n",
       "      <th>0</th>\n",
       "      <th>1</th>\n",
       "      <th>2</th>\n",
       "      <th>3</th>\n",
       "    </tr>\n",
       "  </thead>\n",
       "  <tbody>\n",
       "    <tr>\n",
       "      <th>0</th>\n",
       "      <td>anu</td>\n",
       "      <td>21</td>\n",
       "      <td>dehri</td>\n",
       "      <td>476452</td>\n",
       "    </tr>\n",
       "    <tr>\n",
       "      <th>1</th>\n",
       "      <td>tashu</td>\n",
       "      <td>20</td>\n",
       "      <td>bhopal</td>\n",
       "      <td>21454</td>\n",
       "    </tr>\n",
       "    <tr>\n",
       "      <th>2</th>\n",
       "      <td>mona</td>\n",
       "      <td>22</td>\n",
       "      <td>london</td>\n",
       "      <td>68738665</td>\n",
       "    </tr>\n",
       "    <tr>\n",
       "      <th>3</th>\n",
       "      <td>anshu</td>\n",
       "      <td>15</td>\n",
       "      <td>mumbai</td>\n",
       "      <td>8976700</td>\n",
       "    </tr>\n",
       "    <tr>\n",
       "      <th>4</th>\n",
       "      <td>aayu</td>\n",
       "      <td>23</td>\n",
       "      <td>delhi</td>\n",
       "      <td>556688</td>\n",
       "    </tr>\n",
       "  </tbody>\n",
       "</table>\n",
       "</div>"
      ],
      "text/plain": [
       "       0   1       2         3\n",
       "0    anu  21   dehri    476452\n",
       "1  tashu  20  bhopal     21454\n",
       "2   mona  22  london  68738665\n",
       "3  anshu  15  mumbai   8976700\n",
       "4   aayu  23   delhi    556688"
      ]
     },
     "execution_count": 13,
     "metadata": {},
     "output_type": "execute_result"
    }
   ],
   "source": [
    "df2"
   ]
  },
  {
   "cell_type": "code",
   "execution_count": 16,
   "id": "f7719c65-9491-481e-b1c2-7fbbaa35eff1",
   "metadata": {},
   "outputs": [
    {
     "data": {
      "text/plain": [
       "0      anu\n",
       "1    tashu\n",
       "2     mona\n",
       "3    anshu\n",
       "4     aayu\n",
       "Name: name, dtype: object"
      ]
     },
     "execution_count": 16,
     "metadata": {},
     "output_type": "execute_result"
    }
   ],
   "source": [
    "df2['name']"
   ]
  },
  {
   "cell_type": "code",
   "execution_count": 17,
   "id": "1eb9fa99-c21d-4e20-adb0-bec16a4a9c80",
   "metadata": {},
   "outputs": [
    {
     "data": {
      "text/html": [
       "<div>\n",
       "<style scoped>\n",
       "    .dataframe tbody tr th:only-of-type {\n",
       "        vertical-align: middle;\n",
       "    }\n",
       "\n",
       "    .dataframe tbody tr th {\n",
       "        vertical-align: top;\n",
       "    }\n",
       "\n",
       "    .dataframe thead th {\n",
       "        text-align: right;\n",
       "    }\n",
       "</style>\n",
       "<table border=\"1\" class=\"dataframe\">\n",
       "  <thead>\n",
       "    <tr style=\"text-align: right;\">\n",
       "      <th></th>\n",
       "      <th>city</th>\n",
       "      <th>age</th>\n",
       "    </tr>\n",
       "  </thead>\n",
       "  <tbody>\n",
       "    <tr>\n",
       "      <th>0</th>\n",
       "      <td>dehri</td>\n",
       "      <td>21</td>\n",
       "    </tr>\n",
       "    <tr>\n",
       "      <th>1</th>\n",
       "      <td>bhopal</td>\n",
       "      <td>20</td>\n",
       "    </tr>\n",
       "    <tr>\n",
       "      <th>2</th>\n",
       "      <td>london</td>\n",
       "      <td>22</td>\n",
       "    </tr>\n",
       "    <tr>\n",
       "      <th>3</th>\n",
       "      <td>mumbai</td>\n",
       "      <td>15</td>\n",
       "    </tr>\n",
       "    <tr>\n",
       "      <th>4</th>\n",
       "      <td>delhi</td>\n",
       "      <td>23</td>\n",
       "    </tr>\n",
       "  </tbody>\n",
       "</table>\n",
       "</div>"
      ],
      "text/plain": [
       "     city  age\n",
       "0   dehri   21\n",
       "1  bhopal   20\n",
       "2  london   22\n",
       "3  mumbai   15\n",
       "4   delhi   23"
      ]
     },
     "execution_count": 17,
     "metadata": {},
     "output_type": "execute_result"
    }
   ],
   "source": [
    "df2[[\"city\", \"age\"]]"
   ]
  },
  {
   "cell_type": "code",
   "execution_count": 20,
   "id": "adff95ac-e818-41d5-af66-75b4be682609",
   "metadata": {},
   "outputs": [],
   "source": [
    "df2[\"desigantion\"] = [\"doctor\", \"engineer\", \"lawyer\",\"artist\", \"engineer\"]"
   ]
  },
  {
   "cell_type": "code",
   "execution_count": 21,
   "id": "6818fb91-73ad-4e13-aff5-0bca31637d09",
   "metadata": {},
   "outputs": [
    {
     "data": {
      "text/html": [
       "<div>\n",
       "<style scoped>\n",
       "    .dataframe tbody tr th:only-of-type {\n",
       "        vertical-align: middle;\n",
       "    }\n",
       "\n",
       "    .dataframe tbody tr th {\n",
       "        vertical-align: top;\n",
       "    }\n",
       "\n",
       "    .dataframe thead th {\n",
       "        text-align: right;\n",
       "    }\n",
       "</style>\n",
       "<table border=\"1\" class=\"dataframe\">\n",
       "  <thead>\n",
       "    <tr style=\"text-align: right;\">\n",
       "      <th></th>\n",
       "      <th>name</th>\n",
       "      <th>age</th>\n",
       "      <th>city</th>\n",
       "      <th>salary</th>\n",
       "      <th>desigantion</th>\n",
       "    </tr>\n",
       "  </thead>\n",
       "  <tbody>\n",
       "    <tr>\n",
       "      <th>0</th>\n",
       "      <td>anu</td>\n",
       "      <td>21</td>\n",
       "      <td>dehri</td>\n",
       "      <td>476452</td>\n",
       "      <td>doctor</td>\n",
       "    </tr>\n",
       "    <tr>\n",
       "      <th>1</th>\n",
       "      <td>tashu</td>\n",
       "      <td>20</td>\n",
       "      <td>bhopal</td>\n",
       "      <td>21454</td>\n",
       "      <td>engineer</td>\n",
       "    </tr>\n",
       "    <tr>\n",
       "      <th>2</th>\n",
       "      <td>mona</td>\n",
       "      <td>22</td>\n",
       "      <td>london</td>\n",
       "      <td>68738665</td>\n",
       "      <td>lawyer</td>\n",
       "    </tr>\n",
       "    <tr>\n",
       "      <th>3</th>\n",
       "      <td>anshu</td>\n",
       "      <td>15</td>\n",
       "      <td>mumbai</td>\n",
       "      <td>8976700</td>\n",
       "      <td>artist</td>\n",
       "    </tr>\n",
       "    <tr>\n",
       "      <th>4</th>\n",
       "      <td>aayu</td>\n",
       "      <td>23</td>\n",
       "      <td>delhi</td>\n",
       "      <td>556688</td>\n",
       "      <td>engineer</td>\n",
       "    </tr>\n",
       "  </tbody>\n",
       "</table>\n",
       "</div>"
      ],
      "text/plain": [
       "    name  age    city    salary desigantion\n",
       "0    anu   21   dehri    476452      doctor\n",
       "1  tashu   20  bhopal     21454    engineer\n",
       "2   mona   22  london  68738665      lawyer\n",
       "3  anshu   15  mumbai   8976700      artist\n",
       "4   aayu   23   delhi    556688    engineer"
      ]
     },
     "execution_count": 21,
     "metadata": {},
     "output_type": "execute_result"
    }
   ],
   "source": [
    "df2"
   ]
  },
  {
   "cell_type": "markdown",
   "id": "cf359e95-cac1-4bbc-b92b-1cc858119451",
   "metadata": {},
   "source": [
    "## remove column"
   ]
  },
  {
   "cell_type": "code",
   "execution_count": 28,
   "id": "6f3dcf1e-4b78-4517-a6ac-61ed6c7c4448",
   "metadata": {},
   "outputs": [
    {
     "data": {
      "text/html": [
       "<div>\n",
       "<style scoped>\n",
       "    .dataframe tbody tr th:only-of-type {\n",
       "        vertical-align: middle;\n",
       "    }\n",
       "\n",
       "    .dataframe tbody tr th {\n",
       "        vertical-align: top;\n",
       "    }\n",
       "\n",
       "    .dataframe thead th {\n",
       "        text-align: right;\n",
       "    }\n",
       "</style>\n",
       "<table border=\"1\" class=\"dataframe\">\n",
       "  <thead>\n",
       "    <tr style=\"text-align: right;\">\n",
       "      <th></th>\n",
       "      <th>name</th>\n",
       "      <th>age</th>\n",
       "      <th>city</th>\n",
       "      <th>salary</th>\n",
       "    </tr>\n",
       "  </thead>\n",
       "  <tbody>\n",
       "    <tr>\n",
       "      <th>0</th>\n",
       "      <td>anu</td>\n",
       "      <td>21</td>\n",
       "      <td>dehri</td>\n",
       "      <td>476452</td>\n",
       "    </tr>\n",
       "    <tr>\n",
       "      <th>1</th>\n",
       "      <td>tashu</td>\n",
       "      <td>20</td>\n",
       "      <td>bhopal</td>\n",
       "      <td>21454</td>\n",
       "    </tr>\n",
       "    <tr>\n",
       "      <th>2</th>\n",
       "      <td>mona</td>\n",
       "      <td>22</td>\n",
       "      <td>london</td>\n",
       "      <td>68738665</td>\n",
       "    </tr>\n",
       "    <tr>\n",
       "      <th>3</th>\n",
       "      <td>anshu</td>\n",
       "      <td>15</td>\n",
       "      <td>mumbai</td>\n",
       "      <td>8976700</td>\n",
       "    </tr>\n",
       "    <tr>\n",
       "      <th>4</th>\n",
       "      <td>aayu</td>\n",
       "      <td>23</td>\n",
       "      <td>delhi</td>\n",
       "      <td>556688</td>\n",
       "    </tr>\n",
       "  </tbody>\n",
       "</table>\n",
       "</div>"
      ],
      "text/plain": [
       "    name  age    city    salary\n",
       "0    anu   21   dehri    476452\n",
       "1  tashu   20  bhopal     21454\n",
       "2   mona   22  london  68738665\n",
       "3  anshu   15  mumbai   8976700\n",
       "4   aayu   23   delhi    556688"
      ]
     },
     "execution_count": 28,
     "metadata": {},
     "output_type": "execute_result"
    }
   ],
   "source": [
    "df2.drop('desigantion',axis = 1)"
   ]
  },
  {
   "cell_type": "code",
   "execution_count": 29,
   "id": "5a5d1550-b066-4916-8092-a27c25eba336",
   "metadata": {},
   "outputs": [
    {
     "data": {
      "text/html": [
       "<div>\n",
       "<style scoped>\n",
       "    .dataframe tbody tr th:only-of-type {\n",
       "        vertical-align: middle;\n",
       "    }\n",
       "\n",
       "    .dataframe tbody tr th {\n",
       "        vertical-align: top;\n",
       "    }\n",
       "\n",
       "    .dataframe thead th {\n",
       "        text-align: right;\n",
       "    }\n",
       "</style>\n",
       "<table border=\"1\" class=\"dataframe\">\n",
       "  <thead>\n",
       "    <tr style=\"text-align: right;\">\n",
       "      <th></th>\n",
       "      <th>name</th>\n",
       "      <th>age</th>\n",
       "      <th>city</th>\n",
       "      <th>salary</th>\n",
       "      <th>desigantion</th>\n",
       "    </tr>\n",
       "  </thead>\n",
       "  <tbody>\n",
       "    <tr>\n",
       "      <th>0</th>\n",
       "      <td>anu</td>\n",
       "      <td>21</td>\n",
       "      <td>dehri</td>\n",
       "      <td>476452</td>\n",
       "      <td>doctor</td>\n",
       "    </tr>\n",
       "    <tr>\n",
       "      <th>1</th>\n",
       "      <td>tashu</td>\n",
       "      <td>20</td>\n",
       "      <td>bhopal</td>\n",
       "      <td>21454</td>\n",
       "      <td>engineer</td>\n",
       "    </tr>\n",
       "  </tbody>\n",
       "</table>\n",
       "</div>"
      ],
      "text/plain": [
       "    name  age    city  salary desigantion\n",
       "0    anu   21   dehri  476452      doctor\n",
       "1  tashu   20  bhopal   21454    engineer"
      ]
     },
     "execution_count": 29,
     "metadata": {},
     "output_type": "execute_result"
    }
   ],
   "source": [
    " df2.loc[[0,1]]"
   ]
  },
  {
   "cell_type": "markdown",
   "id": "2e4ef3ed-2cb7-4d7b-869f-e19a5577002f",
   "metadata": {},
   "source": [
    "### selecting rows and column"
   ]
  },
  {
   "cell_type": "code",
   "execution_count": 31,
   "id": "af722183-b4b7-4435-8590-cb7aa3159d0e",
   "metadata": {},
   "outputs": [
    {
     "data": {
      "text/html": [
       "<div>\n",
       "<style scoped>\n",
       "    .dataframe tbody tr th:only-of-type {\n",
       "        vertical-align: middle;\n",
       "    }\n",
       "\n",
       "    .dataframe tbody tr th {\n",
       "        vertical-align: top;\n",
       "    }\n",
       "\n",
       "    .dataframe thead th {\n",
       "        text-align: right;\n",
       "    }\n",
       "</style>\n",
       "<table border=\"1\" class=\"dataframe\">\n",
       "  <thead>\n",
       "    <tr style=\"text-align: right;\">\n",
       "      <th></th>\n",
       "      <th>name</th>\n",
       "      <th>age</th>\n",
       "      <th>city</th>\n",
       "      <th>salary</th>\n",
       "      <th>desigantion</th>\n",
       "    </tr>\n",
       "  </thead>\n",
       "  <tbody>\n",
       "    <tr>\n",
       "      <th>0</th>\n",
       "      <td>anu</td>\n",
       "      <td>21</td>\n",
       "      <td>dehri</td>\n",
       "      <td>476452</td>\n",
       "      <td>doctor</td>\n",
       "    </tr>\n",
       "    <tr>\n",
       "      <th>1</th>\n",
       "      <td>tashu</td>\n",
       "      <td>20</td>\n",
       "      <td>bhopal</td>\n",
       "      <td>21454</td>\n",
       "      <td>engineer</td>\n",
       "    </tr>\n",
       "  </tbody>\n",
       "</table>\n",
       "</div>"
      ],
      "text/plain": [
       "    name  age    city  salary desigantion\n",
       "0    anu   21   dehri  476452      doctor\n",
       "1  tashu   20  bhopal   21454    engineer"
      ]
     },
     "execution_count": 31,
     "metadata": {},
     "output_type": "execute_result"
    }
   ],
   "source": [
    "df2.loc[[0,1]]"
   ]
  },
  {
   "cell_type": "code",
   "execution_count": 33,
   "id": "e9ade518-7fb8-46fe-a8cc-4068dd1ddcc1",
   "metadata": {},
   "outputs": [
    {
     "data": {
      "text/html": [
       "<div>\n",
       "<style scoped>\n",
       "    .dataframe tbody tr th:only-of-type {\n",
       "        vertical-align: middle;\n",
       "    }\n",
       "\n",
       "    .dataframe tbody tr th {\n",
       "        vertical-align: top;\n",
       "    }\n",
       "\n",
       "    .dataframe thead th {\n",
       "        text-align: right;\n",
       "    }\n",
       "</style>\n",
       "<table border=\"1\" class=\"dataframe\">\n",
       "  <thead>\n",
       "    <tr style=\"text-align: right;\">\n",
       "      <th></th>\n",
       "      <th>name</th>\n",
       "      <th>age</th>\n",
       "      <th>city</th>\n",
       "      <th>salary</th>\n",
       "      <th>desigantion</th>\n",
       "    </tr>\n",
       "  </thead>\n",
       "  <tbody>\n",
       "    <tr>\n",
       "      <th>3</th>\n",
       "      <td>anshu</td>\n",
       "      <td>15</td>\n",
       "      <td>mumbai</td>\n",
       "      <td>8976700</td>\n",
       "      <td>artist</td>\n",
       "    </tr>\n",
       "  </tbody>\n",
       "</table>\n",
       "</div>"
      ],
      "text/plain": [
       "    name  age    city   salary desigantion\n",
       "3  anshu   15  mumbai  8976700      artist"
      ]
     },
     "execution_count": 33,
     "metadata": {},
     "output_type": "execute_result"
    }
   ],
   "source": [
    "df2.iloc[[3]]"
   ]
  },
  {
   "cell_type": "code",
   "execution_count": 35,
   "id": "d1c38ea2-e24c-4ffd-862e-6c0e9ff32483",
   "metadata": {},
   "outputs": [
    {
     "data": {
      "text/html": [
       "<div>\n",
       "<style scoped>\n",
       "    .dataframe tbody tr th:only-of-type {\n",
       "        vertical-align: middle;\n",
       "    }\n",
       "\n",
       "    .dataframe tbody tr th {\n",
       "        vertical-align: top;\n",
       "    }\n",
       "\n",
       "    .dataframe thead th {\n",
       "        text-align: right;\n",
       "    }\n",
       "</style>\n",
       "<table border=\"1\" class=\"dataframe\">\n",
       "  <thead>\n",
       "    <tr style=\"text-align: right;\">\n",
       "      <th></th>\n",
       "      <th>city</th>\n",
       "      <th>salary</th>\n",
       "    </tr>\n",
       "  </thead>\n",
       "  <tbody>\n",
       "    <tr>\n",
       "      <th>0</th>\n",
       "      <td>dehri</td>\n",
       "      <td>476452</td>\n",
       "    </tr>\n",
       "    <tr>\n",
       "      <th>1</th>\n",
       "      <td>bhopal</td>\n",
       "      <td>21454</td>\n",
       "    </tr>\n",
       "  </tbody>\n",
       "</table>\n",
       "</div>"
      ],
      "text/plain": [
       "     city  salary\n",
       "0   dehri  476452\n",
       "1  bhopal   21454"
      ]
     },
     "execution_count": 35,
     "metadata": {},
     "output_type": "execute_result"
    }
   ],
   "source": [
    "df2.loc[[0,1]] [[\"city\",\"salary\"]]"
   ]
  },
  {
   "cell_type": "code",
   "execution_count": null,
   "id": "4184185e-8f7b-4e47-bcf1-734fb0beafb2",
   "metadata": {},
   "outputs": [],
   "source": []
  },
  {
   "cell_type": "markdown",
   "id": "4a9d5305-55e2-428a-a47e-9e1405f07159",
   "metadata": {},
   "source": [
    "### conditional selection"
   ]
  },
  {
   "cell_type": "code",
   "execution_count": 36,
   "id": "518110b9-1c2e-4a70-8ead-16788c6fb718",
   "metadata": {},
   "outputs": [
    {
     "data": {
      "text/html": [
       "<div>\n",
       "<style scoped>\n",
       "    .dataframe tbody tr th:only-of-type {\n",
       "        vertical-align: middle;\n",
       "    }\n",
       "\n",
       "    .dataframe tbody tr th {\n",
       "        vertical-align: top;\n",
       "    }\n",
       "\n",
       "    .dataframe thead th {\n",
       "        text-align: right;\n",
       "    }\n",
       "</style>\n",
       "<table border=\"1\" class=\"dataframe\">\n",
       "  <thead>\n",
       "    <tr style=\"text-align: right;\">\n",
       "      <th></th>\n",
       "      <th>name</th>\n",
       "      <th>age</th>\n",
       "      <th>city</th>\n",
       "      <th>salary</th>\n",
       "      <th>desigantion</th>\n",
       "    </tr>\n",
       "  </thead>\n",
       "  <tbody>\n",
       "    <tr>\n",
       "      <th>2</th>\n",
       "      <td>mona</td>\n",
       "      <td>22</td>\n",
       "      <td>london</td>\n",
       "      <td>68738665</td>\n",
       "      <td>lawyer</td>\n",
       "    </tr>\n",
       "    <tr>\n",
       "      <th>4</th>\n",
       "      <td>aayu</td>\n",
       "      <td>23</td>\n",
       "      <td>delhi</td>\n",
       "      <td>556688</td>\n",
       "      <td>engineer</td>\n",
       "    </tr>\n",
       "  </tbody>\n",
       "</table>\n",
       "</div>"
      ],
      "text/plain": [
       "   name  age    city    salary desigantion\n",
       "2  mona   22  london  68738665      lawyer\n",
       "4  aayu   23   delhi    556688    engineer"
      ]
     },
     "execution_count": 36,
     "metadata": {},
     "output_type": "execute_result"
    }
   ],
   "source": [
    "df2[df2[\"age\"] > 21]"
   ]
  },
  {
   "cell_type": "code",
   "execution_count": 37,
   "id": "d1d27d17-42b9-48ee-b0f4-7176d92e3a2c",
   "metadata": {},
   "outputs": [],
   "source": [
    "#I only want to see those people whose age is above 21 and their city must be delhi"
   ]
  },
  {
   "cell_type": "code",
   "execution_count": 40,
   "id": "75da2c6c-57e2-45f7-81e9-59f3d411e667",
   "metadata": {},
   "outputs": [
    {
     "data": {
      "text/html": [
       "<div>\n",
       "<style scoped>\n",
       "    .dataframe tbody tr th:only-of-type {\n",
       "        vertical-align: middle;\n",
       "    }\n",
       "\n",
       "    .dataframe tbody tr th {\n",
       "        vertical-align: top;\n",
       "    }\n",
       "\n",
       "    .dataframe thead th {\n",
       "        text-align: right;\n",
       "    }\n",
       "</style>\n",
       "<table border=\"1\" class=\"dataframe\">\n",
       "  <thead>\n",
       "    <tr style=\"text-align: right;\">\n",
       "      <th></th>\n",
       "      <th>name</th>\n",
       "      <th>age</th>\n",
       "      <th>city</th>\n",
       "      <th>salary</th>\n",
       "      <th>desigantion</th>\n",
       "    </tr>\n",
       "  </thead>\n",
       "  <tbody>\n",
       "    <tr>\n",
       "      <th>4</th>\n",
       "      <td>aayu</td>\n",
       "      <td>23</td>\n",
       "      <td>delhi</td>\n",
       "      <td>556688</td>\n",
       "      <td>engineer</td>\n",
       "    </tr>\n",
       "  </tbody>\n",
       "</table>\n",
       "</div>"
      ],
      "text/plain": [
       "   name  age   city  salary desigantion\n",
       "4  aayu   23  delhi  556688    engineer"
      ]
     },
     "execution_count": 40,
     "metadata": {},
     "output_type": "execute_result"
    }
   ],
   "source": [
    "df2[(df2[\"age\"] > 21) & (df2[\"city\"] == 'delhi')]"
   ]
  }
 ],
 "metadata": {
  "kernelspec": {
   "display_name": "Python [conda env:base] *",
   "language": "python",
   "name": "conda-base-py"
  },
  "language_info": {
   "codemirror_mode": {
    "name": "ipython",
    "version": 3
   },
   "file_extension": ".py",
   "mimetype": "text/x-python",
   "name": "python",
   "nbconvert_exporter": "python",
   "pygments_lexer": "ipython3",
   "version": "3.13.5"
  }
 },
 "nbformat": 4,
 "nbformat_minor": 5
}
