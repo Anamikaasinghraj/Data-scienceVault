{
 "cells": [
  {
   "cell_type": "code",
   "execution_count": 1,
   "id": "04b3d678-969b-4158-ae06-999658a7c2d9",
   "metadata": {},
   "outputs": [],
   "source": [
    "import numpy as np\n",
    "import pandas as pd"
   ]
  },
  {
   "cell_type": "markdown",
   "id": "828e985b-9665-4426-9566-ffdb424a489c",
   "metadata": {},
   "source": [
    "## group by"
   ]
  },
  {
   "cell_type": "code",
   "execution_count": 2,
   "id": "d5c66733-7d61-4353-b881-38080626137e",
   "metadata": {},
   "outputs": [],
   "source": [
    "data ={\n",
    "    'category': ['a', 'b', 'a', 'b', 'a', 'b'],\n",
    "    'store': ['s1', 's1', 's2', 's2', 's1', 's2'],\n",
    "    'sales': [100, 200, 150, 250, 120, 200],\n",
    "    'quantity': [10, 15, 20, 15, 12, 10],\n",
    "    'date': pd.date_range('2024-01-01', periods = 6)\n",
    "}\n",
    "df = pd.DataFrame(data)"
   ]
  },
  {
   "cell_type": "code",
   "execution_count": 3,
   "id": "eeb19fec-00fe-4abb-871b-8fce88336a84",
   "metadata": {},
   "outputs": [
    {
     "data": {
      "text/html": [
       "<div>\n",
       "<style scoped>\n",
       "    .dataframe tbody tr th:only-of-type {\n",
       "        vertical-align: middle;\n",
       "    }\n",
       "\n",
       "    .dataframe tbody tr th {\n",
       "        vertical-align: top;\n",
       "    }\n",
       "\n",
       "    .dataframe thead th {\n",
       "        text-align: right;\n",
       "    }\n",
       "</style>\n",
       "<table border=\"1\" class=\"dataframe\">\n",
       "  <thead>\n",
       "    <tr style=\"text-align: right;\">\n",
       "      <th></th>\n",
       "      <th>category</th>\n",
       "      <th>store</th>\n",
       "      <th>sales</th>\n",
       "      <th>quantity</th>\n",
       "      <th>date</th>\n",
       "    </tr>\n",
       "  </thead>\n",
       "  <tbody>\n",
       "    <tr>\n",
       "      <th>0</th>\n",
       "      <td>a</td>\n",
       "      <td>s1</td>\n",
       "      <td>100</td>\n",
       "      <td>10</td>\n",
       "      <td>2024-01-01</td>\n",
       "    </tr>\n",
       "    <tr>\n",
       "      <th>1</th>\n",
       "      <td>b</td>\n",
       "      <td>s1</td>\n",
       "      <td>200</td>\n",
       "      <td>15</td>\n",
       "      <td>2024-01-02</td>\n",
       "    </tr>\n",
       "    <tr>\n",
       "      <th>2</th>\n",
       "      <td>a</td>\n",
       "      <td>s2</td>\n",
       "      <td>150</td>\n",
       "      <td>20</td>\n",
       "      <td>2024-01-03</td>\n",
       "    </tr>\n",
       "    <tr>\n",
       "      <th>3</th>\n",
       "      <td>b</td>\n",
       "      <td>s2</td>\n",
       "      <td>250</td>\n",
       "      <td>15</td>\n",
       "      <td>2024-01-04</td>\n",
       "    </tr>\n",
       "    <tr>\n",
       "      <th>4</th>\n",
       "      <td>a</td>\n",
       "      <td>s1</td>\n",
       "      <td>120</td>\n",
       "      <td>12</td>\n",
       "      <td>2024-01-05</td>\n",
       "    </tr>\n",
       "    <tr>\n",
       "      <th>5</th>\n",
       "      <td>b</td>\n",
       "      <td>s2</td>\n",
       "      <td>200</td>\n",
       "      <td>10</td>\n",
       "      <td>2024-01-06</td>\n",
       "    </tr>\n",
       "  </tbody>\n",
       "</table>\n",
       "</div>"
      ],
      "text/plain": [
       "  category store  sales  quantity       date\n",
       "0        a    s1    100        10 2024-01-01\n",
       "1        b    s1    200        15 2024-01-02\n",
       "2        a    s2    150        20 2024-01-03\n",
       "3        b    s2    250        15 2024-01-04\n",
       "4        a    s1    120        12 2024-01-05\n",
       "5        b    s2    200        10 2024-01-06"
      ]
     },
     "execution_count": 3,
     "metadata": {},
     "output_type": "execute_result"
    }
   ],
   "source": [
    "df"
   ]
  },
  {
   "cell_type": "code",
   "execution_count": 5,
   "id": "f2b46e50-29cf-4e8a-a9a3-6cfa2f75e6ff",
   "metadata": {},
   "outputs": [
    {
     "name": "stdout",
     "output_type": "stream",
     "text": [
      "a\n",
      "  category store  sales  quantity       date\n",
      "0        a    s1    100        10 2024-01-01\n",
      "2        a    s2    150        20 2024-01-03\n",
      "4        a    s1    120        12 2024-01-05\n",
      "b\n",
      "  category store  sales  quantity       date\n",
      "1        b    s1    200        15 2024-01-02\n",
      "3        b    s2    250        15 2024-01-04\n",
      "5        b    s2    200        10 2024-01-06\n"
     ]
    }
   ],
   "source": [
    "\n",
    "cate = df.groupby('category')\n",
    "cate\n",
    "for i,j in cate:\n",
    "    print(i)\n",
    "    print(j)"
   ]
  },
  {
   "cell_type": "code",
   "execution_count": 6,
   "id": "37944403-fa67-4c5b-9223-2741f0be2950",
   "metadata": {},
   "outputs": [
    {
     "data": {
      "text/plain": [
       "category\n",
       "a    370\n",
       "b    650\n",
       "Name: sales, dtype: int64"
      ]
     },
     "execution_count": 6,
     "metadata": {},
     "output_type": "execute_result"
    }
   ],
   "source": [
    "# group by category and calculate the sum of sales\n",
    "cate = df.groupby('category')['sales'].sum()\n",
    "cate"
   ]
  },
  {
   "cell_type": "code",
   "execution_count": 7,
   "id": "c3cf4fb4-b475-4dd5-b555-cace58b58e22",
   "metadata": {},
   "outputs": [
    {
     "data": {
      "text/plain": [
       "store\n",
       "s1    420\n",
       "s2    600\n",
       "Name: sales, dtype: int64"
      ]
     },
     "execution_count": 7,
     "metadata": {},
     "output_type": "execute_result"
    }
   ],
   "source": [
    "# group by store and calculate the sum of sales\n",
    "sto = df.groupby('store')['sales'].sum()\n",
    "sto"
   ]
  },
  {
   "cell_type": "code",
   "execution_count": 8,
   "id": "a9274573-00a4-4145-acc5-7bf164bfb452",
   "metadata": {},
   "outputs": [
    {
     "data": {
      "text/plain": [
       "category  store\n",
       "a         s1       220\n",
       "          s2       150\n",
       "b         s1       200\n",
       "          s2       450\n",
       "Name: sales, dtype: int64"
      ]
     },
     "execution_count": 8,
     "metadata": {},
     "output_type": "execute_result"
    }
   ],
   "source": [
    "# group by multiple columns \n",
    "# group by category and store \n",
    "cate = df.groupby(['category','store'])['sales'].sum()\n",
    "cate"
   ]
  },
  {
   "cell_type": "markdown",
   "id": "5419a5e1-b2ea-402b-8cf9-5f7a71d400e1",
   "metadata": {},
   "source": [
    "## aggregation\n"
   ]
  },
  {
   "cell_type": "code",
   "execution_count": 10,
   "id": "f56c3ad4-9d7f-432e-b2ac-ccb7229c0d01",
   "metadata": {},
   "outputs": [
    {
     "data": {
      "text/plain": [
       "np.float64(170.0)"
      ]
     },
     "execution_count": 10,
     "metadata": {},
     "output_type": "execute_result"
    }
   ],
   "source": [
    "df['sales'].mean()"
   ]
  },
  {
   "cell_type": "code",
   "execution_count": 15,
   "id": "5d03d400-afc3-400e-ad05-dee1aa91f442",
   "metadata": {},
   "outputs": [
    {
     "data": {
      "text/plain": [
       "sum       1020.000000\n",
       "mean       170.000000\n",
       "min        100.000000\n",
       "max        250.000000\n",
       "count        6.000000\n",
       "std         56.568542\n",
       "median     175.000000\n",
       "Name: sales, dtype: float64"
      ]
     },
     "execution_count": 15,
     "metadata": {},
     "output_type": "execute_result"
    }
   ],
   "source": [
    "df['sales'].agg(['sum', 'mean', 'min', 'max', 'count', 'std', 'median'])"
   ]
  }
 ],
 "metadata": {
  "kernelspec": {
   "display_name": "Python [conda env:base] *",
   "language": "python",
   "name": "conda-base-py"
  },
  "language_info": {
   "codemirror_mode": {
    "name": "ipython",
    "version": 3
   },
   "file_extension": ".py",
   "mimetype": "text/x-python",
   "name": "python",
   "nbconvert_exporter": "python",
   "pygments_lexer": "ipython3",
   "version": "3.13.5"
  }
 },
 "nbformat": 4,
 "nbformat_minor": 5
}
